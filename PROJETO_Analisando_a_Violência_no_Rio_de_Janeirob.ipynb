{
  "nbformat": 4,
  "nbformat_minor": 0,
  "metadata": {
    "colab": {
      "name": "PROJETO - Analisando a Violência no Rio de Janeirob.ipynb",
      "provenance": [],
      "collapsed_sections": [],
      "include_colab_link": true
    },
    "kernelspec": {
      "name": "python3",
      "display_name": "Python 3"
    }
  },
  "cells": [
    {
      "cell_type": "markdown",
      "metadata": {
        "id": "view-in-github",
        "colab_type": "text"
      },
      "source": [
        "<a href=\"https://colab.research.google.com/github/eliasfeitoza/Data-Science/blob/master/PROJETO_Analisando_a_Viol%C3%AAncia_no_Rio_de_Janeirob.ipynb\" target=\"_parent\"><img src=\"https://colab.research.google.com/assets/colab-badge.svg\" alt=\"Open In Colab\"/></a>"
      ]
    },
    {
      "cell_type": "markdown",
      "metadata": {
        "id": "kLI0gJtzDGuQ",
        "colab_type": "text"
      },
      "source": [
        "<center><img src=\"http://sigmoidal.ai/wp-content/uploads/2019/08/logo_color.png\" height=\"40px\"></center>\n",
        "\n",
        "<center><img src=\"https://diariodorio.com/wp-content/uploads/2016/06/Violencia-Rio-de-Janeiro1-1280x720.jpg\"height=\"300px\"></center>\n",
        "\n",
        "# Analisando a Violência no Rio de Janeiro\n",
        "\n",
        "* O Estado do Rio de Janeiro registrou um crescimento de 46% no número de mortes causadas por violência policial entre os meses de janeiro e junho, em comparação com o mesmo período do ano passado. O dado foi divulgado na manhã desta terça-feira (9) pelo Observatório de Segurança, do Centro de Estudos de Segurança e Cidadania (CESeC).\n",
        "\n",
        "* A pesquisa foi elaborada usando como base dados do Instituto de Segurança Pública (ISP), do governo do estado; informações vinculadas na imprensa e mídias comunitárias e das forças policiais. No primeiro semestre do ano passado, foram 82 casos de mortes por ação de agentes de segurança. O número saltou para 120 casos este ano.\n",
        "\n",
        "* Este prjeto tem por objetivo expor o cresimento e os principais pontos afetados com esta violência que vivemos diariamente no Estado do Rio de Janeiro, são dados refrente ao ano de 1991 a 2019."
      ]
    },
    {
      "cell_type": "markdown",
      "metadata": {
        "id": "0zxQHhIUDF_2",
        "colab_type": "text"
      },
      "source": [
        "# Obtenção dos Dados\n",
        "\n",
        "\n",
        "O portal ISPDados, página de Dados Abertos do Instituto de Segurança Pública. Nesta página, você poderá acessar as bases de dados de registros criminais e de atividade policial do estado do Rio de Janeiro. As estatísticas aqui divulgadas são construídas a partir dos Registros de Ocorrência (RO) lavrados nas delegacias da Secretaria de Estado de Polícia Civil do Rio de Janeiro (SEPOL), além de informações complementares de órgãos específicos da Secretaria de Estado de Polícia Militar do Rio de Janeiro (SEPM). Antes de serem consolidados no ISP, os RO são submetidos ao controle de qualidade realizado pela Corregedoria Geral de Polícia (CGPOL) da Secretaria de Estado de Polícia Civil. As estatísticas produzidas baseiam-se na data em que foi confeccionado o Registro de Ocorrência.\n",
        "<br>\n",
        "<br>\n",
        "<center><img src=\"http://www.esicrj.rj.gov.br/site/img/b_governo.gif\"></center>\n",
        "\n"
      ]
    },
    {
      "cell_type": "markdown",
      "metadata": {
        "id": "7KjycLnBoApD",
        "colab_type": "text"
      },
      "source": [
        "## Imporatção dos Pacotes\n",
        "\n",
        "* Neste processo é necessário a importação dos pacotes para utilizamos neste projeto, como elaboração de visualizações, informações estatísticas, etc.\n"
      ]
    },
    {
      "cell_type": "code",
      "metadata": {
        "id": "SN0MJO05oa8u",
        "colab_type": "code",
        "colab": {}
      },
      "source": [
        "# Importar os pacotes necessários - Importando as bibliotecas do Pandas do Python\n",
        "import pandas as pd #Por regra de convensão deve se chamar a biblioteca pandas sempre da forma mencionada, facilitando assim a leitura por qualquer leitor.\n",
        "import matplotlib.pyplot as plt # Trata-se da mais famosa biblioteca de visualização de gráficos de dados do Python. Por padrão deve ser acionada da forma mencionada.\n",
        "import seaborn as sns # O Seaborn é uma biblioteca de visualização de dados do Python baseado no Matplotlib com uma melhor visualização.\n",
        "import numpy as np\n",
        "\n",
        "%matplotlib inline\n"
      ],
      "execution_count": 0,
      "outputs": []
    },
    {
      "cell_type": "markdown",
      "metadata": {
        "id": "7vh4at0l90nr",
        "colab_type": "text"
      },
      "source": [
        "### Importando os dados CSV\n",
        "\n",
        "* CSV significa Comma Separated Values, ou seja, um arquivo `csv` é um arquivo de valores separados por vírgula. Esse formato de armazenamento é simples e agrupa informações de arquivos de texto em planilhas, usado para trocas de dados com um banco de dados ou uma planilha entre aplicativos.\n",
        "\n",
        "<b>Abaixo o camando do processo de importação:</b>\n",
        "\n",
        "Importe os dados, usando `df = pd.read_csv(\"endereço_do_csv\")`"
      ]
    },
    {
      "cell_type": "code",
      "metadata": {
        "id": "CYLNme_OCX_R",
        "colab_type": "code",
        "colab": {}
      },
      "source": [
        "# Importando o arquivo CSV da fonte de dados da Policia Militar do Estado do RJ\n",
        "\n",
        "df_rj = pd.read_csv(\"https://raw.githubusercontent.com/carlosfab/curso_data_science_na_pratica/master/modulo_02/violencia_rio.csv\")"
      ],
      "execution_count": 0,
      "outputs": []
    },
    {
      "cell_type": "markdown",
      "metadata": {
        "id": "qb5By2nIMS6m",
        "colab_type": "text"
      },
      "source": [
        "## Análise Inicial dos Dados\n",
        "\n",
        "* Esta etapa tem como objetivo facilitar o entendimento dos campos inseridos no <b>DataSet (Tabela)</b> bem como facilitar a localização de algum dado específico e analisar se há informações em branco que interfira em nossa análise!!\n",
        "\n",
        "\n"
      ]
    },
    {
      "cell_type": "markdown",
      "metadata": {
        "id": "PiPd2AF7trax",
        "colab_type": "text"
      },
      "source": [
        "## Qual o tamanho do DataFrame?"
      ]
    },
    {
      "cell_type": "code",
      "metadata": {
        "id": "HZ1IBJONqlLD",
        "colab_type": "code",
        "outputId": "8500ac6a-1370-4211-8638-8bccc6b85c96",
        "colab": {
          "base_uri": "https://localhost:8080/",
          "height": 34
        }
      },
      "source": [
        "# Visualisando o tamanho do DataFrame (Shape) importado do portal da Policia Militar\n",
        "# Devemos apresentar a quantidade de Entradas (Linhas) e a quantidade de Colunas ( Variáveis)\n",
        "\n",
        "df_rj.shape"
      ],
      "execution_count": 3,
      "outputs": [
        {
          "output_type": "execute_result",
          "data": {
            "text/plain": [
              "(344, 56)"
            ]
          },
          "metadata": {
            "tags": []
          },
          "execution_count": 3
        }
      ]
    },
    {
      "cell_type": "markdown",
      "metadata": {
        "id": "ip8HgVy2rGjb",
        "colab_type": "text"
      },
      "source": [
        "* Após a execução do comando acima, foi demosntrado que o DataFrame possui <b>344 Linhas e 56 Colunas</b>."
      ]
    },
    {
      "cell_type": "markdown",
      "metadata": {
        "id": "zPYFt3hEtdsH",
        "colab_type": "text"
      },
      "source": [
        "## Extrair e Imprimir os nomes das colunas"
      ]
    },
    {
      "cell_type": "code",
      "metadata": {
        "id": "Ql84lrBRrY2H",
        "colab_type": "code",
        "outputId": "2916d018-1a06-47f3-b6b9-d97b686e64f9",
        "colab": {
          "base_uri": "https://localhost:8080/",
          "height": 306
        }
      },
      "source": [
        "# Extraindo e exibindo os nomes das Colunas do DataFrame da Policia Militar do Estado do RJ\n",
        "\n",
        "df_rj.columns"
      ],
      "execution_count": 4,
      "outputs": [
        {
          "output_type": "execute_result",
          "data": {
            "text/plain": [
              "Index(['vano', 'mes', 'hom_doloso', 'lesao_corp_morte', 'latrocinio',\n",
              "       'hom_por_interv_policial', 'tentat_hom', 'lesao_corp_dolosa', 'estupro',\n",
              "       'hom_culposo', 'lesao_corp_culposa', 'roubo_comercio',\n",
              "       'roubo_residencia', 'roubo_veiculo', 'roubo_carga', 'roubo_transeunte',\n",
              "       'roubo_em_coletivo', 'roubo_banco', 'roubo_cx_eletronico',\n",
              "       'roubo_celular', 'roubo_conducao_saque', 'roubo_apos_saque',\n",
              "       'roubo_bicicleta', 'outros_roubos', 'total_roubos', 'furto_veiculos',\n",
              "       'furto_transeunte', 'furto_coletivo', 'furto_celular',\n",
              "       'furto_bicicleta', 'outros_furtos', 'total_furtos', 'sequestro',\n",
              "       'extorsao', 'sequestro_relampago', 'estelionato', 'apreensao_drogas',\n",
              "       'posse_drogas', 'trafico_drogas', 'apreensao_drogas_sem_autor',\n",
              "       'recuperacao_veiculos', 'apf', 'aaapai', 'cmp', 'cmba', 'ameaca',\n",
              "       'pessoas_desaparecidas', 'encontro_cadaver', 'encontro_ossada',\n",
              "       'pol_militares_mortos_serv', 'pol_civis_mortos_serv',\n",
              "       'indicador_letalidade', 'indicador_roubo_rua', 'indicador_roubo_veic',\n",
              "       'registro_ocorrencias', 'fase'],\n",
              "      dtype='object')"
            ]
          },
          "metadata": {
            "tags": []
          },
          "execution_count": 4
        }
      ]
    },
    {
      "cell_type": "markdown",
      "metadata": {
        "id": "IBbXgjcbtWEL",
        "colab_type": "text"
      },
      "source": [
        "# Quais são os tipos das variáveis?"
      ]
    },
    {
      "cell_type": "code",
      "metadata": {
        "id": "yodI_W_Wr39e",
        "colab_type": "code",
        "outputId": "add891b3-4955-482a-8b66-798680d3f9ec",
        "colab": {
          "base_uri": "https://localhost:8080/",
          "height": 986
        }
      },
      "source": [
        "# Extraindo as informações dos tipos das váriáveis\n",
        "\n",
        "df_rj.dtypes"
      ],
      "execution_count": 5,
      "outputs": [
        {
          "output_type": "execute_result",
          "data": {
            "text/plain": [
              "vano                            int64\n",
              "mes                             int64\n",
              "hom_doloso                      int64\n",
              "lesao_corp_morte              float64\n",
              "latrocinio                      int64\n",
              "hom_por_interv_policial       float64\n",
              "tentat_hom                      int64\n",
              "lesao_corp_dolosa               int64\n",
              "estupro                       float64\n",
              "hom_culposo                   float64\n",
              "lesao_corp_culposa            float64\n",
              "roubo_comercio                  int64\n",
              "roubo_residencia                int64\n",
              "roubo_veiculo                   int64\n",
              "roubo_carga                     int64\n",
              "roubo_transeunte                int64\n",
              "roubo_em_coletivo               int64\n",
              "roubo_banco                     int64\n",
              "roubo_cx_eletronico           float64\n",
              "roubo_celular                 float64\n",
              "roubo_conducao_saque          float64\n",
              "roubo_apos_saque              float64\n",
              "roubo_bicicleta               float64\n",
              "outros_roubos                   int64\n",
              "total_roubos                    int64\n",
              "furto_veiculos                  int64\n",
              "furto_transeunte                int64\n",
              "furto_coletivo                float64\n",
              "furto_celular                 float64\n",
              "furto_bicicleta               float64\n",
              "outros_furtos                   int64\n",
              "total_furtos                    int64\n",
              "sequestro                     float64\n",
              "extorsao                      float64\n",
              "sequestro_relampago           float64\n",
              "estelionato                   float64\n",
              "apreensao_drogas                int64\n",
              "posse_drogas                  float64\n",
              "trafico_drogas                float64\n",
              "apreensao_drogas_sem_autor    float64\n",
              "recuperacao_veiculos            int64\n",
              "apf                           float64\n",
              "aaapai                        float64\n",
              "cmp                           float64\n",
              "cmba                          float64\n",
              "ameaca                        float64\n",
              "pessoas_desaparecidas         float64\n",
              "encontro_cadaver                int64\n",
              "encontro_ossada               float64\n",
              "pol_militares_mortos_serv     float64\n",
              "pol_civis_mortos_serv         float64\n",
              "indicador_letalidade            int64\n",
              "indicador_roubo_rua             int64\n",
              "indicador_roubo_veic            int64\n",
              "registro_ocorrencias          float64\n",
              "fase                            int64\n",
              "dtype: object"
            ]
          },
          "metadata": {
            "tags": []
          },
          "execution_count": 5
        }
      ]
    },
    {
      "cell_type": "markdown",
      "metadata": {
        "id": "kH6rHbscsSMx",
        "colab_type": "text"
      },
      "source": [
        "## Visualização de Registros"
      ]
    },
    {
      "cell_type": "code",
      "metadata": {
        "id": "Bx4vbXMgsYR8",
        "colab_type": "code",
        "outputId": "19d3e584-ace8-4cd5-c308-23d51dacc321",
        "colab": {
          "base_uri": "https://localhost:8080/",
          "height": 224
        }
      },
      "source": [
        "# Apresentando as 5 primeiras entradas de nosso DataFrame\n",
        "\n",
        "df_rj.head()"
      ],
      "execution_count": 6,
      "outputs": [
        {
          "output_type": "execute_result",
          "data": {
            "text/html": [
              "<div>\n",
              "<style scoped>\n",
              "    .dataframe tbody tr th:only-of-type {\n",
              "        vertical-align: middle;\n",
              "    }\n",
              "\n",
              "    .dataframe tbody tr th {\n",
              "        vertical-align: top;\n",
              "    }\n",
              "\n",
              "    .dataframe thead th {\n",
              "        text-align: right;\n",
              "    }\n",
              "</style>\n",
              "<table border=\"1\" class=\"dataframe\">\n",
              "  <thead>\n",
              "    <tr style=\"text-align: right;\">\n",
              "      <th></th>\n",
              "      <th>vano</th>\n",
              "      <th>mes</th>\n",
              "      <th>hom_doloso</th>\n",
              "      <th>lesao_corp_morte</th>\n",
              "      <th>latrocinio</th>\n",
              "      <th>hom_por_interv_policial</th>\n",
              "      <th>tentat_hom</th>\n",
              "      <th>lesao_corp_dolosa</th>\n",
              "      <th>estupro</th>\n",
              "      <th>hom_culposo</th>\n",
              "      <th>lesao_corp_culposa</th>\n",
              "      <th>roubo_comercio</th>\n",
              "      <th>roubo_residencia</th>\n",
              "      <th>roubo_veiculo</th>\n",
              "      <th>roubo_carga</th>\n",
              "      <th>roubo_transeunte</th>\n",
              "      <th>roubo_em_coletivo</th>\n",
              "      <th>roubo_banco</th>\n",
              "      <th>roubo_cx_eletronico</th>\n",
              "      <th>roubo_celular</th>\n",
              "      <th>roubo_conducao_saque</th>\n",
              "      <th>roubo_apos_saque</th>\n",
              "      <th>roubo_bicicleta</th>\n",
              "      <th>outros_roubos</th>\n",
              "      <th>total_roubos</th>\n",
              "      <th>furto_veiculos</th>\n",
              "      <th>furto_transeunte</th>\n",
              "      <th>furto_coletivo</th>\n",
              "      <th>furto_celular</th>\n",
              "      <th>furto_bicicleta</th>\n",
              "      <th>outros_furtos</th>\n",
              "      <th>total_furtos</th>\n",
              "      <th>sequestro</th>\n",
              "      <th>extorsao</th>\n",
              "      <th>sequestro_relampago</th>\n",
              "      <th>estelionato</th>\n",
              "      <th>apreensao_drogas</th>\n",
              "      <th>posse_drogas</th>\n",
              "      <th>trafico_drogas</th>\n",
              "      <th>apreensao_drogas_sem_autor</th>\n",
              "      <th>recuperacao_veiculos</th>\n",
              "      <th>apf</th>\n",
              "      <th>aaapai</th>\n",
              "      <th>cmp</th>\n",
              "      <th>cmba</th>\n",
              "      <th>ameaca</th>\n",
              "      <th>pessoas_desaparecidas</th>\n",
              "      <th>encontro_cadaver</th>\n",
              "      <th>encontro_ossada</th>\n",
              "      <th>pol_militares_mortos_serv</th>\n",
              "      <th>pol_civis_mortos_serv</th>\n",
              "      <th>indicador_letalidade</th>\n",
              "      <th>indicador_roubo_rua</th>\n",
              "      <th>indicador_roubo_veic</th>\n",
              "      <th>registro_ocorrencias</th>\n",
              "      <th>fase</th>\n",
              "    </tr>\n",
              "  </thead>\n",
              "  <tbody>\n",
              "    <tr>\n",
              "      <th>0</th>\n",
              "      <td>1991</td>\n",
              "      <td>1</td>\n",
              "      <td>657</td>\n",
              "      <td>NaN</td>\n",
              "      <td>15</td>\n",
              "      <td>NaN</td>\n",
              "      <td>162</td>\n",
              "      <td>3051</td>\n",
              "      <td>NaN</td>\n",
              "      <td>NaN</td>\n",
              "      <td>NaN</td>\n",
              "      <td>350</td>\n",
              "      <td>188</td>\n",
              "      <td>1174</td>\n",
              "      <td>63</td>\n",
              "      <td>967</td>\n",
              "      <td>381</td>\n",
              "      <td>37</td>\n",
              "      <td>NaN</td>\n",
              "      <td>NaN</td>\n",
              "      <td>NaN</td>\n",
              "      <td>NaN</td>\n",
              "      <td>NaN</td>\n",
              "      <td>158</td>\n",
              "      <td>3318</td>\n",
              "      <td>2009</td>\n",
              "      <td>1147</td>\n",
              "      <td>NaN</td>\n",
              "      <td>NaN</td>\n",
              "      <td>NaN</td>\n",
              "      <td>3561</td>\n",
              "      <td>6717</td>\n",
              "      <td>NaN</td>\n",
              "      <td>NaN</td>\n",
              "      <td>NaN</td>\n",
              "      <td>NaN</td>\n",
              "      <td>133</td>\n",
              "      <td>NaN</td>\n",
              "      <td>NaN</td>\n",
              "      <td>NaN</td>\n",
              "      <td>872</td>\n",
              "      <td>NaN</td>\n",
              "      <td>NaN</td>\n",
              "      <td>NaN</td>\n",
              "      <td>NaN</td>\n",
              "      <td>NaN</td>\n",
              "      <td>NaN</td>\n",
              "      <td>217</td>\n",
              "      <td>NaN</td>\n",
              "      <td>NaN</td>\n",
              "      <td>NaN</td>\n",
              "      <td>672</td>\n",
              "      <td>1348</td>\n",
              "      <td>1174</td>\n",
              "      <td>NaN</td>\n",
              "      <td>3</td>\n",
              "    </tr>\n",
              "    <tr>\n",
              "      <th>1</th>\n",
              "      <td>1991</td>\n",
              "      <td>2</td>\n",
              "      <td>732</td>\n",
              "      <td>NaN</td>\n",
              "      <td>17</td>\n",
              "      <td>NaN</td>\n",
              "      <td>175</td>\n",
              "      <td>3421</td>\n",
              "      <td>NaN</td>\n",
              "      <td>NaN</td>\n",
              "      <td>NaN</td>\n",
              "      <td>357</td>\n",
              "      <td>171</td>\n",
              "      <td>1097</td>\n",
              "      <td>64</td>\n",
              "      <td>963</td>\n",
              "      <td>432</td>\n",
              "      <td>35</td>\n",
              "      <td>NaN</td>\n",
              "      <td>NaN</td>\n",
              "      <td>NaN</td>\n",
              "      <td>NaN</td>\n",
              "      <td>NaN</td>\n",
              "      <td>142</td>\n",
              "      <td>3261</td>\n",
              "      <td>1850</td>\n",
              "      <td>1066</td>\n",
              "      <td>NaN</td>\n",
              "      <td>NaN</td>\n",
              "      <td>NaN</td>\n",
              "      <td>3309</td>\n",
              "      <td>6225</td>\n",
              "      <td>NaN</td>\n",
              "      <td>NaN</td>\n",
              "      <td>NaN</td>\n",
              "      <td>NaN</td>\n",
              "      <td>127</td>\n",
              "      <td>NaN</td>\n",
              "      <td>NaN</td>\n",
              "      <td>NaN</td>\n",
              "      <td>751</td>\n",
              "      <td>NaN</td>\n",
              "      <td>NaN</td>\n",
              "      <td>NaN</td>\n",
              "      <td>NaN</td>\n",
              "      <td>NaN</td>\n",
              "      <td>NaN</td>\n",
              "      <td>209</td>\n",
              "      <td>NaN</td>\n",
              "      <td>NaN</td>\n",
              "      <td>NaN</td>\n",
              "      <td>749</td>\n",
              "      <td>1395</td>\n",
              "      <td>1097</td>\n",
              "      <td>NaN</td>\n",
              "      <td>3</td>\n",
              "    </tr>\n",
              "    <tr>\n",
              "      <th>2</th>\n",
              "      <td>1991</td>\n",
              "      <td>3</td>\n",
              "      <td>713</td>\n",
              "      <td>NaN</td>\n",
              "      <td>25</td>\n",
              "      <td>NaN</td>\n",
              "      <td>216</td>\n",
              "      <td>3613</td>\n",
              "      <td>NaN</td>\n",
              "      <td>NaN</td>\n",
              "      <td>NaN</td>\n",
              "      <td>443</td>\n",
              "      <td>191</td>\n",
              "      <td>1265</td>\n",
              "      <td>71</td>\n",
              "      <td>963</td>\n",
              "      <td>422</td>\n",
              "      <td>43</td>\n",
              "      <td>NaN</td>\n",
              "      <td>NaN</td>\n",
              "      <td>NaN</td>\n",
              "      <td>NaN</td>\n",
              "      <td>NaN</td>\n",
              "      <td>131</td>\n",
              "      <td>3529</td>\n",
              "      <td>2084</td>\n",
              "      <td>1062</td>\n",
              "      <td>NaN</td>\n",
              "      <td>NaN</td>\n",
              "      <td>NaN</td>\n",
              "      <td>3573</td>\n",
              "      <td>6719</td>\n",
              "      <td>NaN</td>\n",
              "      <td>NaN</td>\n",
              "      <td>NaN</td>\n",
              "      <td>NaN</td>\n",
              "      <td>80</td>\n",
              "      <td>NaN</td>\n",
              "      <td>NaN</td>\n",
              "      <td>NaN</td>\n",
              "      <td>789</td>\n",
              "      <td>NaN</td>\n",
              "      <td>NaN</td>\n",
              "      <td>NaN</td>\n",
              "      <td>NaN</td>\n",
              "      <td>NaN</td>\n",
              "      <td>NaN</td>\n",
              "      <td>188</td>\n",
              "      <td>NaN</td>\n",
              "      <td>NaN</td>\n",
              "      <td>NaN</td>\n",
              "      <td>738</td>\n",
              "      <td>1385</td>\n",
              "      <td>1265</td>\n",
              "      <td>NaN</td>\n",
              "      <td>3</td>\n",
              "    </tr>\n",
              "    <tr>\n",
              "      <th>3</th>\n",
              "      <td>1991</td>\n",
              "      <td>4</td>\n",
              "      <td>634</td>\n",
              "      <td>NaN</td>\n",
              "      <td>20</td>\n",
              "      <td>NaN</td>\n",
              "      <td>200</td>\n",
              "      <td>3211</td>\n",
              "      <td>NaN</td>\n",
              "      <td>NaN</td>\n",
              "      <td>NaN</td>\n",
              "      <td>425</td>\n",
              "      <td>199</td>\n",
              "      <td>1415</td>\n",
              "      <td>81</td>\n",
              "      <td>1186</td>\n",
              "      <td>354</td>\n",
              "      <td>36</td>\n",
              "      <td>NaN</td>\n",
              "      <td>NaN</td>\n",
              "      <td>NaN</td>\n",
              "      <td>NaN</td>\n",
              "      <td>NaN</td>\n",
              "      <td>112</td>\n",
              "      <td>3808</td>\n",
              "      <td>2085</td>\n",
              "      <td>1195</td>\n",
              "      <td>NaN</td>\n",
              "      <td>NaN</td>\n",
              "      <td>NaN</td>\n",
              "      <td>3290</td>\n",
              "      <td>6570</td>\n",
              "      <td>NaN</td>\n",
              "      <td>NaN</td>\n",
              "      <td>NaN</td>\n",
              "      <td>NaN</td>\n",
              "      <td>133</td>\n",
              "      <td>NaN</td>\n",
              "      <td>NaN</td>\n",
              "      <td>NaN</td>\n",
              "      <td>787</td>\n",
              "      <td>NaN</td>\n",
              "      <td>NaN</td>\n",
              "      <td>NaN</td>\n",
              "      <td>NaN</td>\n",
              "      <td>NaN</td>\n",
              "      <td>NaN</td>\n",
              "      <td>140</td>\n",
              "      <td>NaN</td>\n",
              "      <td>NaN</td>\n",
              "      <td>NaN</td>\n",
              "      <td>654</td>\n",
              "      <td>1540</td>\n",
              "      <td>1415</td>\n",
              "      <td>NaN</td>\n",
              "      <td>3</td>\n",
              "    </tr>\n",
              "    <tr>\n",
              "      <th>4</th>\n",
              "      <td>1991</td>\n",
              "      <td>5</td>\n",
              "      <td>650</td>\n",
              "      <td>NaN</td>\n",
              "      <td>20</td>\n",
              "      <td>NaN</td>\n",
              "      <td>146</td>\n",
              "      <td>3051</td>\n",
              "      <td>NaN</td>\n",
              "      <td>NaN</td>\n",
              "      <td>NaN</td>\n",
              "      <td>553</td>\n",
              "      <td>231</td>\n",
              "      <td>1449</td>\n",
              "      <td>82</td>\n",
              "      <td>931</td>\n",
              "      <td>335</td>\n",
              "      <td>27</td>\n",
              "      <td>NaN</td>\n",
              "      <td>NaN</td>\n",
              "      <td>NaN</td>\n",
              "      <td>NaN</td>\n",
              "      <td>NaN</td>\n",
              "      <td>147</td>\n",
              "      <td>3755</td>\n",
              "      <td>2185</td>\n",
              "      <td>723</td>\n",
              "      <td>NaN</td>\n",
              "      <td>NaN</td>\n",
              "      <td>NaN</td>\n",
              "      <td>3546</td>\n",
              "      <td>6454</td>\n",
              "      <td>NaN</td>\n",
              "      <td>NaN</td>\n",
              "      <td>NaN</td>\n",
              "      <td>NaN</td>\n",
              "      <td>163</td>\n",
              "      <td>NaN</td>\n",
              "      <td>NaN</td>\n",
              "      <td>NaN</td>\n",
              "      <td>845</td>\n",
              "      <td>NaN</td>\n",
              "      <td>NaN</td>\n",
              "      <td>NaN</td>\n",
              "      <td>NaN</td>\n",
              "      <td>NaN</td>\n",
              "      <td>NaN</td>\n",
              "      <td>78</td>\n",
              "      <td>NaN</td>\n",
              "      <td>NaN</td>\n",
              "      <td>NaN</td>\n",
              "      <td>670</td>\n",
              "      <td>1266</td>\n",
              "      <td>1449</td>\n",
              "      <td>NaN</td>\n",
              "      <td>3</td>\n",
              "    </tr>\n",
              "  </tbody>\n",
              "</table>\n",
              "</div>"
            ],
            "text/plain": [
              "   vano  mes  hom_doloso  ...  indicador_roubo_veic  registro_ocorrencias  fase\n",
              "0  1991    1         657  ...                  1174                   NaN     3\n",
              "1  1991    2         732  ...                  1097                   NaN     3\n",
              "2  1991    3         713  ...                  1265                   NaN     3\n",
              "3  1991    4         634  ...                  1415                   NaN     3\n",
              "4  1991    5         650  ...                  1449                   NaN     3\n",
              "\n",
              "[5 rows x 56 columns]"
            ]
          },
          "metadata": {
            "tags": []
          },
          "execution_count": 6
        }
      ]
    },
    {
      "cell_type": "markdown",
      "metadata": {
        "id": "hf3hJ2G0jdYb",
        "colab_type": "text"
      },
      "source": [
        "# Excluindo Colunas e trabalhando com dados de 2018 - 2019"
      ]
    },
    {
      "cell_type": "code",
      "metadata": {
        "id": "XmZQwzwviRiA",
        "colab_type": "code",
        "outputId": "56ea4528-e1f9-47f0-81cc-8998ec77b23c",
        "colab": {
          "base_uri": "https://localhost:8080/",
          "height": 689
        }
      },
      "source": [
        "# Excluindo as colunas desnecessárias\n",
        "# Trabalhando com dados do período de 2018 a 2019, aplicando a fução loc[00:00] e excluindo as colunas com drop(columns=[\"nome da coluna\"])\n",
        "\n",
        "df_rj.loc[324:343].drop(columns=[\"apf\",\"aaapai\",\"cmp\",\"cmba\",\"indicador_letalidade\",\"indicador_roubo_rua\",\"indicador_roubo_veic\",\"fase\"])"
      ],
      "execution_count": 7,
      "outputs": [
        {
          "output_type": "execute_result",
          "data": {
            "text/html": [
              "<div>\n",
              "<style scoped>\n",
              "    .dataframe tbody tr th:only-of-type {\n",
              "        vertical-align: middle;\n",
              "    }\n",
              "\n",
              "    .dataframe tbody tr th {\n",
              "        vertical-align: top;\n",
              "    }\n",
              "\n",
              "    .dataframe thead th {\n",
              "        text-align: right;\n",
              "    }\n",
              "</style>\n",
              "<table border=\"1\" class=\"dataframe\">\n",
              "  <thead>\n",
              "    <tr style=\"text-align: right;\">\n",
              "      <th></th>\n",
              "      <th>vano</th>\n",
              "      <th>mes</th>\n",
              "      <th>hom_doloso</th>\n",
              "      <th>lesao_corp_morte</th>\n",
              "      <th>latrocinio</th>\n",
              "      <th>hom_por_interv_policial</th>\n",
              "      <th>tentat_hom</th>\n",
              "      <th>lesao_corp_dolosa</th>\n",
              "      <th>estupro</th>\n",
              "      <th>hom_culposo</th>\n",
              "      <th>lesao_corp_culposa</th>\n",
              "      <th>roubo_comercio</th>\n",
              "      <th>roubo_residencia</th>\n",
              "      <th>roubo_veiculo</th>\n",
              "      <th>roubo_carga</th>\n",
              "      <th>roubo_transeunte</th>\n",
              "      <th>roubo_em_coletivo</th>\n",
              "      <th>roubo_banco</th>\n",
              "      <th>roubo_cx_eletronico</th>\n",
              "      <th>roubo_celular</th>\n",
              "      <th>roubo_conducao_saque</th>\n",
              "      <th>roubo_apos_saque</th>\n",
              "      <th>roubo_bicicleta</th>\n",
              "      <th>outros_roubos</th>\n",
              "      <th>total_roubos</th>\n",
              "      <th>furto_veiculos</th>\n",
              "      <th>furto_transeunte</th>\n",
              "      <th>furto_coletivo</th>\n",
              "      <th>furto_celular</th>\n",
              "      <th>furto_bicicleta</th>\n",
              "      <th>outros_furtos</th>\n",
              "      <th>total_furtos</th>\n",
              "      <th>sequestro</th>\n",
              "      <th>extorsao</th>\n",
              "      <th>sequestro_relampago</th>\n",
              "      <th>estelionato</th>\n",
              "      <th>apreensao_drogas</th>\n",
              "      <th>posse_drogas</th>\n",
              "      <th>trafico_drogas</th>\n",
              "      <th>apreensao_drogas_sem_autor</th>\n",
              "      <th>recuperacao_veiculos</th>\n",
              "      <th>ameaca</th>\n",
              "      <th>pessoas_desaparecidas</th>\n",
              "      <th>encontro_cadaver</th>\n",
              "      <th>encontro_ossada</th>\n",
              "      <th>pol_militares_mortos_serv</th>\n",
              "      <th>pol_civis_mortos_serv</th>\n",
              "      <th>registro_ocorrencias</th>\n",
              "    </tr>\n",
              "  </thead>\n",
              "  <tbody>\n",
              "    <tr>\n",
              "      <th>324</th>\n",
              "      <td>2018</td>\n",
              "      <td>1</td>\n",
              "      <td>468</td>\n",
              "      <td>6.0</td>\n",
              "      <td>23</td>\n",
              "      <td>157.0</td>\n",
              "      <td>607</td>\n",
              "      <td>5575</td>\n",
              "      <td>409.0</td>\n",
              "      <td>164.0</td>\n",
              "      <td>2093.0</td>\n",
              "      <td>596</td>\n",
              "      <td>108</td>\n",
              "      <td>5286</td>\n",
              "      <td>977</td>\n",
              "      <td>7810</td>\n",
              "      <td>1070</td>\n",
              "      <td>3</td>\n",
              "      <td>10.0</td>\n",
              "      <td>2044.0</td>\n",
              "      <td>4.0</td>\n",
              "      <td>68.0</td>\n",
              "      <td>17.0</td>\n",
              "      <td>2935</td>\n",
              "      <td>20928</td>\n",
              "      <td>1264</td>\n",
              "      <td>2263</td>\n",
              "      <td>675.0</td>\n",
              "      <td>1425.0</td>\n",
              "      <td>139.0</td>\n",
              "      <td>7420</td>\n",
              "      <td>13186</td>\n",
              "      <td>0.0</td>\n",
              "      <td>123.0</td>\n",
              "      <td>12.0</td>\n",
              "      <td>2815.0</td>\n",
              "      <td>1793</td>\n",
              "      <td>626.0</td>\n",
              "      <td>1024.0</td>\n",
              "      <td>175.0</td>\n",
              "      <td>3695</td>\n",
              "      <td>4834.0</td>\n",
              "      <td>453.0</td>\n",
              "      <td>44</td>\n",
              "      <td>1.0</td>\n",
              "      <td>5.0</td>\n",
              "      <td>1.0</td>\n",
              "      <td>67683.0</td>\n",
              "    </tr>\n",
              "    <tr>\n",
              "      <th>325</th>\n",
              "      <td>2018</td>\n",
              "      <td>2</td>\n",
              "      <td>441</td>\n",
              "      <td>5.0</td>\n",
              "      <td>21</td>\n",
              "      <td>102.0</td>\n",
              "      <td>494</td>\n",
              "      <td>5087</td>\n",
              "      <td>446.0</td>\n",
              "      <td>129.0</td>\n",
              "      <td>1793.0</td>\n",
              "      <td>552</td>\n",
              "      <td>113</td>\n",
              "      <td>4792</td>\n",
              "      <td>742</td>\n",
              "      <td>7268</td>\n",
              "      <td>1011</td>\n",
              "      <td>1</td>\n",
              "      <td>5.0</td>\n",
              "      <td>2154.0</td>\n",
              "      <td>1.0</td>\n",
              "      <td>65.0</td>\n",
              "      <td>4.0</td>\n",
              "      <td>2976</td>\n",
              "      <td>19684</td>\n",
              "      <td>1159</td>\n",
              "      <td>2327</td>\n",
              "      <td>548.0</td>\n",
              "      <td>1578.0</td>\n",
              "      <td>116.0</td>\n",
              "      <td>6691</td>\n",
              "      <td>12419</td>\n",
              "      <td>0.0</td>\n",
              "      <td>107.0</td>\n",
              "      <td>12.0</td>\n",
              "      <td>2137.0</td>\n",
              "      <td>1588</td>\n",
              "      <td>572.0</td>\n",
              "      <td>913.0</td>\n",
              "      <td>132.0</td>\n",
              "      <td>3292</td>\n",
              "      <td>4261.0</td>\n",
              "      <td>334.0</td>\n",
              "      <td>41</td>\n",
              "      <td>0.0</td>\n",
              "      <td>2.0</td>\n",
              "      <td>0.0</td>\n",
              "      <td>61383.0</td>\n",
              "    </tr>\n",
              "    <tr>\n",
              "      <th>326</th>\n",
              "      <td>2018</td>\n",
              "      <td>3</td>\n",
              "      <td>508</td>\n",
              "      <td>6.0</td>\n",
              "      <td>20</td>\n",
              "      <td>109.0</td>\n",
              "      <td>553</td>\n",
              "      <td>5473</td>\n",
              "      <td>452.0</td>\n",
              "      <td>171.0</td>\n",
              "      <td>2308.0</td>\n",
              "      <td>638</td>\n",
              "      <td>115</td>\n",
              "      <td>5358</td>\n",
              "      <td>918</td>\n",
              "      <td>7638</td>\n",
              "      <td>1385</td>\n",
              "      <td>2</td>\n",
              "      <td>5.0</td>\n",
              "      <td>2183.0</td>\n",
              "      <td>9.0</td>\n",
              "      <td>52.0</td>\n",
              "      <td>8.0</td>\n",
              "      <td>2729</td>\n",
              "      <td>21040</td>\n",
              "      <td>1249</td>\n",
              "      <td>1623</td>\n",
              "      <td>743.0</td>\n",
              "      <td>1224.0</td>\n",
              "      <td>150.0</td>\n",
              "      <td>6557</td>\n",
              "      <td>11546</td>\n",
              "      <td>0.0</td>\n",
              "      <td>136.0</td>\n",
              "      <td>4.0</td>\n",
              "      <td>2654.0</td>\n",
              "      <td>1744</td>\n",
              "      <td>673.0</td>\n",
              "      <td>950.0</td>\n",
              "      <td>152.0</td>\n",
              "      <td>3450</td>\n",
              "      <td>4962.0</td>\n",
              "      <td>428.0</td>\n",
              "      <td>33</td>\n",
              "      <td>1.0</td>\n",
              "      <td>4.0</td>\n",
              "      <td>0.0</td>\n",
              "      <td>66035.0</td>\n",
              "    </tr>\n",
              "    <tr>\n",
              "      <th>327</th>\n",
              "      <td>2018</td>\n",
              "      <td>4</td>\n",
              "      <td>476</td>\n",
              "      <td>2.0</td>\n",
              "      <td>14</td>\n",
              "      <td>101.0</td>\n",
              "      <td>491</td>\n",
              "      <td>5299</td>\n",
              "      <td>428.0</td>\n",
              "      <td>176.0</td>\n",
              "      <td>2410.0</td>\n",
              "      <td>665</td>\n",
              "      <td>104</td>\n",
              "      <td>4656</td>\n",
              "      <td>892</td>\n",
              "      <td>7596</td>\n",
              "      <td>1352</td>\n",
              "      <td>1</td>\n",
              "      <td>5.0</td>\n",
              "      <td>2101.0</td>\n",
              "      <td>8.0</td>\n",
              "      <td>67.0</td>\n",
              "      <td>13.0</td>\n",
              "      <td>2517</td>\n",
              "      <td>19977</td>\n",
              "      <td>1346</td>\n",
              "      <td>1596</td>\n",
              "      <td>748.0</td>\n",
              "      <td>1146.0</td>\n",
              "      <td>149.0</td>\n",
              "      <td>6522</td>\n",
              "      <td>11507</td>\n",
              "      <td>0.0</td>\n",
              "      <td>101.0</td>\n",
              "      <td>17.0</td>\n",
              "      <td>2659.0</td>\n",
              "      <td>1857</td>\n",
              "      <td>718.0</td>\n",
              "      <td>992.0</td>\n",
              "      <td>172.0</td>\n",
              "      <td>3444</td>\n",
              "      <td>4706.0</td>\n",
              "      <td>370.0</td>\n",
              "      <td>26</td>\n",
              "      <td>0.0</td>\n",
              "      <td>1.0</td>\n",
              "      <td>0.0</td>\n",
              "      <td>64527.0</td>\n",
              "    </tr>\n",
              "    <tr>\n",
              "      <th>328</th>\n",
              "      <td>2018</td>\n",
              "      <td>5</td>\n",
              "      <td>423</td>\n",
              "      <td>2.0</td>\n",
              "      <td>13</td>\n",
              "      <td>145.0</td>\n",
              "      <td>535</td>\n",
              "      <td>5157</td>\n",
              "      <td>452.0</td>\n",
              "      <td>158.0</td>\n",
              "      <td>2354.0</td>\n",
              "      <td>631</td>\n",
              "      <td>105</td>\n",
              "      <td>4382</td>\n",
              "      <td>752</td>\n",
              "      <td>8034</td>\n",
              "      <td>1501</td>\n",
              "      <td>2</td>\n",
              "      <td>7.0</td>\n",
              "      <td>2294.0</td>\n",
              "      <td>7.0</td>\n",
              "      <td>94.0</td>\n",
              "      <td>14.0</td>\n",
              "      <td>2783</td>\n",
              "      <td>20606</td>\n",
              "      <td>1361</td>\n",
              "      <td>1610</td>\n",
              "      <td>783.0</td>\n",
              "      <td>1173.0</td>\n",
              "      <td>181.0</td>\n",
              "      <td>7008</td>\n",
              "      <td>12116</td>\n",
              "      <td>0.0</td>\n",
              "      <td>145.0</td>\n",
              "      <td>7.0</td>\n",
              "      <td>3159.0</td>\n",
              "      <td>1966</td>\n",
              "      <td>691.0</td>\n",
              "      <td>1119.0</td>\n",
              "      <td>184.0</td>\n",
              "      <td>3148</td>\n",
              "      <td>4669.0</td>\n",
              "      <td>373.0</td>\n",
              "      <td>45</td>\n",
              "      <td>5.0</td>\n",
              "      <td>3.0</td>\n",
              "      <td>0.0</td>\n",
              "      <td>66922.0</td>\n",
              "    </tr>\n",
              "    <tr>\n",
              "      <th>329</th>\n",
              "      <td>2018</td>\n",
              "      <td>6</td>\n",
              "      <td>375</td>\n",
              "      <td>6.0</td>\n",
              "      <td>11</td>\n",
              "      <td>155.0</td>\n",
              "      <td>571</td>\n",
              "      <td>4983</td>\n",
              "      <td>440.0</td>\n",
              "      <td>195.0</td>\n",
              "      <td>2175.0</td>\n",
              "      <td>525</td>\n",
              "      <td>111</td>\n",
              "      <td>4014</td>\n",
              "      <td>755</td>\n",
              "      <td>7735</td>\n",
              "      <td>1346</td>\n",
              "      <td>1</td>\n",
              "      <td>7.0</td>\n",
              "      <td>2247.0</td>\n",
              "      <td>4.0</td>\n",
              "      <td>80.0</td>\n",
              "      <td>16.0</td>\n",
              "      <td>2654</td>\n",
              "      <td>19495</td>\n",
              "      <td>1278</td>\n",
              "      <td>1467</td>\n",
              "      <td>690.0</td>\n",
              "      <td>1229.0</td>\n",
              "      <td>156.0</td>\n",
              "      <td>6401</td>\n",
              "      <td>11221</td>\n",
              "      <td>0.0</td>\n",
              "      <td>133.0</td>\n",
              "      <td>11.0</td>\n",
              "      <td>2885.0</td>\n",
              "      <td>1809</td>\n",
              "      <td>610.0</td>\n",
              "      <td>1066.0</td>\n",
              "      <td>167.0</td>\n",
              "      <td>2422</td>\n",
              "      <td>4423.0</td>\n",
              "      <td>413.0</td>\n",
              "      <td>30</td>\n",
              "      <td>2.0</td>\n",
              "      <td>1.0</td>\n",
              "      <td>1.0</td>\n",
              "      <td>62142.0</td>\n",
              "    </tr>\n",
              "    <tr>\n",
              "      <th>330</th>\n",
              "      <td>2018</td>\n",
              "      <td>7</td>\n",
              "      <td>410</td>\n",
              "      <td>6.0</td>\n",
              "      <td>9</td>\n",
              "      <td>130.0</td>\n",
              "      <td>546</td>\n",
              "      <td>5223</td>\n",
              "      <td>419.0</td>\n",
              "      <td>153.0</td>\n",
              "      <td>2361.0</td>\n",
              "      <td>503</td>\n",
              "      <td>94</td>\n",
              "      <td>3518</td>\n",
              "      <td>731</td>\n",
              "      <td>7488</td>\n",
              "      <td>1312</td>\n",
              "      <td>1</td>\n",
              "      <td>1.0</td>\n",
              "      <td>2196.0</td>\n",
              "      <td>6.0</td>\n",
              "      <td>58.0</td>\n",
              "      <td>12.0</td>\n",
              "      <td>2321</td>\n",
              "      <td>18241</td>\n",
              "      <td>1294</td>\n",
              "      <td>1653</td>\n",
              "      <td>649.0</td>\n",
              "      <td>1366.0</td>\n",
              "      <td>137.0</td>\n",
              "      <td>6580</td>\n",
              "      <td>11679</td>\n",
              "      <td>2.0</td>\n",
              "      <td>127.0</td>\n",
              "      <td>8.0</td>\n",
              "      <td>3226.0</td>\n",
              "      <td>1880</td>\n",
              "      <td>662.0</td>\n",
              "      <td>1082.0</td>\n",
              "      <td>170.0</td>\n",
              "      <td>2478</td>\n",
              "      <td>4587.0</td>\n",
              "      <td>387.0</td>\n",
              "      <td>26</td>\n",
              "      <td>6.0</td>\n",
              "      <td>3.0</td>\n",
              "      <td>1.0</td>\n",
              "      <td>62689.0</td>\n",
              "    </tr>\n",
              "    <tr>\n",
              "      <th>331</th>\n",
              "      <td>2018</td>\n",
              "      <td>8</td>\n",
              "      <td>360</td>\n",
              "      <td>6.0</td>\n",
              "      <td>13</td>\n",
              "      <td>176.0</td>\n",
              "      <td>535</td>\n",
              "      <td>4655</td>\n",
              "      <td>433.0</td>\n",
              "      <td>157.0</td>\n",
              "      <td>2267.0</td>\n",
              "      <td>535</td>\n",
              "      <td>109</td>\n",
              "      <td>3910</td>\n",
              "      <td>673</td>\n",
              "      <td>7261</td>\n",
              "      <td>1400</td>\n",
              "      <td>2</td>\n",
              "      <td>2.0</td>\n",
              "      <td>2170.0</td>\n",
              "      <td>4.0</td>\n",
              "      <td>62.0</td>\n",
              "      <td>12.0</td>\n",
              "      <td>2620</td>\n",
              "      <td>18760</td>\n",
              "      <td>1398</td>\n",
              "      <td>1553</td>\n",
              "      <td>733.0</td>\n",
              "      <td>1302.0</td>\n",
              "      <td>162.0</td>\n",
              "      <td>6944</td>\n",
              "      <td>12092</td>\n",
              "      <td>0.0</td>\n",
              "      <td>149.0</td>\n",
              "      <td>12.0</td>\n",
              "      <td>3615.0</td>\n",
              "      <td>1994</td>\n",
              "      <td>694.0</td>\n",
              "      <td>1141.0</td>\n",
              "      <td>201.0</td>\n",
              "      <td>3368</td>\n",
              "      <td>4532.0</td>\n",
              "      <td>377.0</td>\n",
              "      <td>24</td>\n",
              "      <td>4.0</td>\n",
              "      <td>2.0</td>\n",
              "      <td>0.0</td>\n",
              "      <td>65797.0</td>\n",
              "    </tr>\n",
              "    <tr>\n",
              "      <th>332</th>\n",
              "      <td>2018</td>\n",
              "      <td>9</td>\n",
              "      <td>382</td>\n",
              "      <td>7.0</td>\n",
              "      <td>14</td>\n",
              "      <td>108.0</td>\n",
              "      <td>509</td>\n",
              "      <td>5344</td>\n",
              "      <td>489.0</td>\n",
              "      <td>157.0</td>\n",
              "      <td>2504.0</td>\n",
              "      <td>463</td>\n",
              "      <td>103</td>\n",
              "      <td>4053</td>\n",
              "      <td>578</td>\n",
              "      <td>6756</td>\n",
              "      <td>1275</td>\n",
              "      <td>1</td>\n",
              "      <td>1.0</td>\n",
              "      <td>2182.0</td>\n",
              "      <td>9.0</td>\n",
              "      <td>160.0</td>\n",
              "      <td>16.0</td>\n",
              "      <td>2385</td>\n",
              "      <td>17982</td>\n",
              "      <td>1339</td>\n",
              "      <td>1419</td>\n",
              "      <td>655.0</td>\n",
              "      <td>1173.0</td>\n",
              "      <td>161.0</td>\n",
              "      <td>6686</td>\n",
              "      <td>11433</td>\n",
              "      <td>0.0</td>\n",
              "      <td>146.0</td>\n",
              "      <td>5.0</td>\n",
              "      <td>2809.0</td>\n",
              "      <td>1959</td>\n",
              "      <td>747.0</td>\n",
              "      <td>1062.0</td>\n",
              "      <td>183.0</td>\n",
              "      <td>2625</td>\n",
              "      <td>4666.0</td>\n",
              "      <td>386.0</td>\n",
              "      <td>17</td>\n",
              "      <td>1.0</td>\n",
              "      <td>4.0</td>\n",
              "      <td>0.0</td>\n",
              "      <td>62376.0</td>\n",
              "    </tr>\n",
              "    <tr>\n",
              "      <th>333</th>\n",
              "      <td>2018</td>\n",
              "      <td>10</td>\n",
              "      <td>383</td>\n",
              "      <td>2.0</td>\n",
              "      <td>11</td>\n",
              "      <td>127.0</td>\n",
              "      <td>491</td>\n",
              "      <td>5472</td>\n",
              "      <td>488.0</td>\n",
              "      <td>153.0</td>\n",
              "      <td>2382.0</td>\n",
              "      <td>454</td>\n",
              "      <td>95</td>\n",
              "      <td>4242</td>\n",
              "      <td>651</td>\n",
              "      <td>7360</td>\n",
              "      <td>1441</td>\n",
              "      <td>1</td>\n",
              "      <td>8.0</td>\n",
              "      <td>2477.0</td>\n",
              "      <td>9.0</td>\n",
              "      <td>83.0</td>\n",
              "      <td>18.0</td>\n",
              "      <td>2308</td>\n",
              "      <td>19147</td>\n",
              "      <td>1428</td>\n",
              "      <td>1597</td>\n",
              "      <td>735.0</td>\n",
              "      <td>1368.0</td>\n",
              "      <td>206.0</td>\n",
              "      <td>7036</td>\n",
              "      <td>12370</td>\n",
              "      <td>0.0</td>\n",
              "      <td>143.0</td>\n",
              "      <td>8.0</td>\n",
              "      <td>2959.0</td>\n",
              "      <td>1735</td>\n",
              "      <td>666.0</td>\n",
              "      <td>939.0</td>\n",
              "      <td>165.0</td>\n",
              "      <td>3176</td>\n",
              "      <td>4877.0</td>\n",
              "      <td>427.0</td>\n",
              "      <td>16</td>\n",
              "      <td>2.0</td>\n",
              "      <td>1.0</td>\n",
              "      <td>1.0</td>\n",
              "      <td>65589.0</td>\n",
              "    </tr>\n",
              "    <tr>\n",
              "      <th>334</th>\n",
              "      <td>2018</td>\n",
              "      <td>11</td>\n",
              "      <td>378</td>\n",
              "      <td>3.0</td>\n",
              "      <td>12</td>\n",
              "      <td>136.0</td>\n",
              "      <td>463</td>\n",
              "      <td>5277</td>\n",
              "      <td>424.0</td>\n",
              "      <td>153.0</td>\n",
              "      <td>2283.0</td>\n",
              "      <td>441</td>\n",
              "      <td>84</td>\n",
              "      <td>4074</td>\n",
              "      <td>725</td>\n",
              "      <td>7017</td>\n",
              "      <td>1384</td>\n",
              "      <td>5</td>\n",
              "      <td>3.0</td>\n",
              "      <td>2346.0</td>\n",
              "      <td>6.0</td>\n",
              "      <td>79.0</td>\n",
              "      <td>16.0</td>\n",
              "      <td>2363</td>\n",
              "      <td>18543</td>\n",
              "      <td>1325</td>\n",
              "      <td>1560</td>\n",
              "      <td>737.0</td>\n",
              "      <td>1357.0</td>\n",
              "      <td>176.0</td>\n",
              "      <td>6963</td>\n",
              "      <td>12118</td>\n",
              "      <td>1.0</td>\n",
              "      <td>121.0</td>\n",
              "      <td>4.0</td>\n",
              "      <td>2879.0</td>\n",
              "      <td>1716</td>\n",
              "      <td>664.0</td>\n",
              "      <td>931.0</td>\n",
              "      <td>160.0</td>\n",
              "      <td>2848</td>\n",
              "      <td>4657.0</td>\n",
              "      <td>410.0</td>\n",
              "      <td>24</td>\n",
              "      <td>2.0</td>\n",
              "      <td>1.0</td>\n",
              "      <td>0.0</td>\n",
              "      <td>63281.0</td>\n",
              "    </tr>\n",
              "    <tr>\n",
              "      <th>335</th>\n",
              "      <td>2018</td>\n",
              "      <td>12</td>\n",
              "      <td>346</td>\n",
              "      <td>5.0</td>\n",
              "      <td>13</td>\n",
              "      <td>88.0</td>\n",
              "      <td>447</td>\n",
              "      <td>5737</td>\n",
              "      <td>430.0</td>\n",
              "      <td>191.0</td>\n",
              "      <td>2590.0</td>\n",
              "      <td>434</td>\n",
              "      <td>108</td>\n",
              "      <td>3812</td>\n",
              "      <td>788</td>\n",
              "      <td>6459</td>\n",
              "      <td>1183</td>\n",
              "      <td>1</td>\n",
              "      <td>4.0</td>\n",
              "      <td>2144.0</td>\n",
              "      <td>16.0</td>\n",
              "      <td>73.0</td>\n",
              "      <td>13.0</td>\n",
              "      <td>2168</td>\n",
              "      <td>17203</td>\n",
              "      <td>1353</td>\n",
              "      <td>1772</td>\n",
              "      <td>620.0</td>\n",
              "      <td>1377.0</td>\n",
              "      <td>168.0</td>\n",
              "      <td>6893</td>\n",
              "      <td>12183</td>\n",
              "      <td>1.0</td>\n",
              "      <td>123.0</td>\n",
              "      <td>7.0</td>\n",
              "      <td>2696.0</td>\n",
              "      <td>1585</td>\n",
              "      <td>640.0</td>\n",
              "      <td>815.0</td>\n",
              "      <td>165.0</td>\n",
              "      <td>2502</td>\n",
              "      <td>4835.0</td>\n",
              "      <td>422.0</td>\n",
              "      <td>24</td>\n",
              "      <td>3.0</td>\n",
              "      <td>1.0</td>\n",
              "      <td>0.0</td>\n",
              "      <td>62043.0</td>\n",
              "    </tr>\n",
              "    <tr>\n",
              "      <th>336</th>\n",
              "      <td>2019</td>\n",
              "      <td>1</td>\n",
              "      <td>386</td>\n",
              "      <td>2.0</td>\n",
              "      <td>15</td>\n",
              "      <td>159.0</td>\n",
              "      <td>577</td>\n",
              "      <td>6423</td>\n",
              "      <td>459.0</td>\n",
              "      <td>157.0</td>\n",
              "      <td>2334.0</td>\n",
              "      <td>431</td>\n",
              "      <td>116</td>\n",
              "      <td>3785</td>\n",
              "      <td>740</td>\n",
              "      <td>7454</td>\n",
              "      <td>1328</td>\n",
              "      <td>2</td>\n",
              "      <td>7.0</td>\n",
              "      <td>2414.0</td>\n",
              "      <td>6.0</td>\n",
              "      <td>88.0</td>\n",
              "      <td>19.0</td>\n",
              "      <td>2365</td>\n",
              "      <td>18755</td>\n",
              "      <td>1415</td>\n",
              "      <td>2058</td>\n",
              "      <td>720.0</td>\n",
              "      <td>1581.0</td>\n",
              "      <td>168.0</td>\n",
              "      <td>7992</td>\n",
              "      <td>13934</td>\n",
              "      <td>0.0</td>\n",
              "      <td>129.0</td>\n",
              "      <td>6.0</td>\n",
              "      <td>3125.0</td>\n",
              "      <td>2021</td>\n",
              "      <td>792.0</td>\n",
              "      <td>1077.0</td>\n",
              "      <td>201.0</td>\n",
              "      <td>2810</td>\n",
              "      <td>5902.0</td>\n",
              "      <td>447.0</td>\n",
              "      <td>31</td>\n",
              "      <td>4.0</td>\n",
              "      <td>2.0</td>\n",
              "      <td>0.0</td>\n",
              "      <td>69609.0</td>\n",
              "    </tr>\n",
              "    <tr>\n",
              "      <th>337</th>\n",
              "      <td>2019</td>\n",
              "      <td>2</td>\n",
              "      <td>323</td>\n",
              "      <td>5.0</td>\n",
              "      <td>8</td>\n",
              "      <td>145.0</td>\n",
              "      <td>450</td>\n",
              "      <td>5210</td>\n",
              "      <td>440.0</td>\n",
              "      <td>157.0</td>\n",
              "      <td>2045.0</td>\n",
              "      <td>411</td>\n",
              "      <td>116</td>\n",
              "      <td>3554</td>\n",
              "      <td>645</td>\n",
              "      <td>7000</td>\n",
              "      <td>1356</td>\n",
              "      <td>4</td>\n",
              "      <td>1.0</td>\n",
              "      <td>2111.0</td>\n",
              "      <td>14.0</td>\n",
              "      <td>60.0</td>\n",
              "      <td>14.0</td>\n",
              "      <td>2124</td>\n",
              "      <td>17410</td>\n",
              "      <td>1344</td>\n",
              "      <td>1889</td>\n",
              "      <td>685.0</td>\n",
              "      <td>1613.0</td>\n",
              "      <td>158.0</td>\n",
              "      <td>7315</td>\n",
              "      <td>13004</td>\n",
              "      <td>0.0</td>\n",
              "      <td>144.0</td>\n",
              "      <td>7.0</td>\n",
              "      <td>3089.0</td>\n",
              "      <td>2090</td>\n",
              "      <td>798.0</td>\n",
              "      <td>1126.0</td>\n",
              "      <td>202.0</td>\n",
              "      <td>2556</td>\n",
              "      <td>4904.0</td>\n",
              "      <td>351.0</td>\n",
              "      <td>37</td>\n",
              "      <td>4.0</td>\n",
              "      <td>4.0</td>\n",
              "      <td>0.0</td>\n",
              "      <td>64967.0</td>\n",
              "    </tr>\n",
              "    <tr>\n",
              "      <th>338</th>\n",
              "      <td>2019</td>\n",
              "      <td>3</td>\n",
              "      <td>344</td>\n",
              "      <td>5.0</td>\n",
              "      <td>11</td>\n",
              "      <td>132.0</td>\n",
              "      <td>590</td>\n",
              "      <td>5902</td>\n",
              "      <td>469.0</td>\n",
              "      <td>160.0</td>\n",
              "      <td>2157.0</td>\n",
              "      <td>497</td>\n",
              "      <td>95</td>\n",
              "      <td>3775</td>\n",
              "      <td>638</td>\n",
              "      <td>7734</td>\n",
              "      <td>1532</td>\n",
              "      <td>1</td>\n",
              "      <td>4.0</td>\n",
              "      <td>2626.0</td>\n",
              "      <td>5.0</td>\n",
              "      <td>88.0</td>\n",
              "      <td>16.0</td>\n",
              "      <td>2547</td>\n",
              "      <td>19558</td>\n",
              "      <td>1364</td>\n",
              "      <td>2757</td>\n",
              "      <td>634.0</td>\n",
              "      <td>1889.0</td>\n",
              "      <td>202.0</td>\n",
              "      <td>8549</td>\n",
              "      <td>15395</td>\n",
              "      <td>0.0</td>\n",
              "      <td>159.0</td>\n",
              "      <td>6.0</td>\n",
              "      <td>3004.0</td>\n",
              "      <td>1941</td>\n",
              "      <td>740.0</td>\n",
              "      <td>1053.0</td>\n",
              "      <td>181.0</td>\n",
              "      <td>2470</td>\n",
              "      <td>5571.0</td>\n",
              "      <td>407.0</td>\n",
              "      <td>29</td>\n",
              "      <td>2.0</td>\n",
              "      <td>2.0</td>\n",
              "      <td>0.0</td>\n",
              "      <td>72100.0</td>\n",
              "    </tr>\n",
              "    <tr>\n",
              "      <th>339</th>\n",
              "      <td>2019</td>\n",
              "      <td>4</td>\n",
              "      <td>360</td>\n",
              "      <td>1.0</td>\n",
              "      <td>11</td>\n",
              "      <td>124.0</td>\n",
              "      <td>466</td>\n",
              "      <td>5573</td>\n",
              "      <td>483.0</td>\n",
              "      <td>172.0</td>\n",
              "      <td>2182.0</td>\n",
              "      <td>502</td>\n",
              "      <td>124</td>\n",
              "      <td>3755</td>\n",
              "      <td>667</td>\n",
              "      <td>7031</td>\n",
              "      <td>1585</td>\n",
              "      <td>2</td>\n",
              "      <td>4.0</td>\n",
              "      <td>2424.0</td>\n",
              "      <td>10.0</td>\n",
              "      <td>82.0</td>\n",
              "      <td>23.0</td>\n",
              "      <td>2245</td>\n",
              "      <td>18454</td>\n",
              "      <td>1244</td>\n",
              "      <td>1519</td>\n",
              "      <td>607.0</td>\n",
              "      <td>1318.0</td>\n",
              "      <td>211.0</td>\n",
              "      <td>7633</td>\n",
              "      <td>12532</td>\n",
              "      <td>0.0</td>\n",
              "      <td>151.0</td>\n",
              "      <td>11.0</td>\n",
              "      <td>3260.0</td>\n",
              "      <td>1909</td>\n",
              "      <td>745.0</td>\n",
              "      <td>1021.0</td>\n",
              "      <td>187.0</td>\n",
              "      <td>2624</td>\n",
              "      <td>5310.0</td>\n",
              "      <td>408.0</td>\n",
              "      <td>22</td>\n",
              "      <td>3.0</td>\n",
              "      <td>1.0</td>\n",
              "      <td>0.0</td>\n",
              "      <td>67797.0</td>\n",
              "    </tr>\n",
              "    <tr>\n",
              "      <th>340</th>\n",
              "      <td>2019</td>\n",
              "      <td>5</td>\n",
              "      <td>345</td>\n",
              "      <td>2.0</td>\n",
              "      <td>15</td>\n",
              "      <td>172.0</td>\n",
              "      <td>478</td>\n",
              "      <td>4958</td>\n",
              "      <td>465.0</td>\n",
              "      <td>145.0</td>\n",
              "      <td>2304.0</td>\n",
              "      <td>514</td>\n",
              "      <td>93</td>\n",
              "      <td>3649</td>\n",
              "      <td>710</td>\n",
              "      <td>7332</td>\n",
              "      <td>1625</td>\n",
              "      <td>1</td>\n",
              "      <td>3.0</td>\n",
              "      <td>2427.0</td>\n",
              "      <td>9.0</td>\n",
              "      <td>87.0</td>\n",
              "      <td>7.0</td>\n",
              "      <td>2216</td>\n",
              "      <td>18673</td>\n",
              "      <td>1480</td>\n",
              "      <td>1475</td>\n",
              "      <td>715.0</td>\n",
              "      <td>1423.0</td>\n",
              "      <td>220.0</td>\n",
              "      <td>7711</td>\n",
              "      <td>13024</td>\n",
              "      <td>0.0</td>\n",
              "      <td>147.0</td>\n",
              "      <td>7.0</td>\n",
              "      <td>3498.0</td>\n",
              "      <td>2034</td>\n",
              "      <td>735.0</td>\n",
              "      <td>1133.0</td>\n",
              "      <td>199.0</td>\n",
              "      <td>2450</td>\n",
              "      <td>5068.0</td>\n",
              "      <td>390.0</td>\n",
              "      <td>20</td>\n",
              "      <td>1.0</td>\n",
              "      <td>0.0</td>\n",
              "      <td>0.0</td>\n",
              "      <td>68336.0</td>\n",
              "    </tr>\n",
              "    <tr>\n",
              "      <th>341</th>\n",
              "      <td>2019</td>\n",
              "      <td>6</td>\n",
              "      <td>332</td>\n",
              "      <td>3.0</td>\n",
              "      <td>8</td>\n",
              "      <td>153.0</td>\n",
              "      <td>436</td>\n",
              "      <td>4769</td>\n",
              "      <td>414.0</td>\n",
              "      <td>152.0</td>\n",
              "      <td>2481.0</td>\n",
              "      <td>382</td>\n",
              "      <td>85</td>\n",
              "      <td>3115</td>\n",
              "      <td>599</td>\n",
              "      <td>6077</td>\n",
              "      <td>1287</td>\n",
              "      <td>1</td>\n",
              "      <td>4.0</td>\n",
              "      <td>2187.0</td>\n",
              "      <td>19.0</td>\n",
              "      <td>83.0</td>\n",
              "      <td>9.0</td>\n",
              "      <td>1984</td>\n",
              "      <td>15832</td>\n",
              "      <td>1251</td>\n",
              "      <td>1443</td>\n",
              "      <td>630.0</td>\n",
              "      <td>1345.0</td>\n",
              "      <td>189.0</td>\n",
              "      <td>7224</td>\n",
              "      <td>12082</td>\n",
              "      <td>0.0</td>\n",
              "      <td>133.0</td>\n",
              "      <td>6.0</td>\n",
              "      <td>3029.0</td>\n",
              "      <td>1854</td>\n",
              "      <td>763.0</td>\n",
              "      <td>976.0</td>\n",
              "      <td>158.0</td>\n",
              "      <td>2041</td>\n",
              "      <td>4497.0</td>\n",
              "      <td>403.0</td>\n",
              "      <td>20</td>\n",
              "      <td>1.0</td>\n",
              "      <td>3.0</td>\n",
              "      <td>0.0</td>\n",
              "      <td>61202.0</td>\n",
              "    </tr>\n",
              "    <tr>\n",
              "      <th>342</th>\n",
              "      <td>2019</td>\n",
              "      <td>7</td>\n",
              "      <td>309</td>\n",
              "      <td>5.0</td>\n",
              "      <td>10</td>\n",
              "      <td>194.0</td>\n",
              "      <td>399</td>\n",
              "      <td>4740</td>\n",
              "      <td>402.0</td>\n",
              "      <td>140.0</td>\n",
              "      <td>2334.0</td>\n",
              "      <td>386</td>\n",
              "      <td>72</td>\n",
              "      <td>3198</td>\n",
              "      <td>691</td>\n",
              "      <td>6637</td>\n",
              "      <td>1208</td>\n",
              "      <td>1</td>\n",
              "      <td>0.0</td>\n",
              "      <td>2226.0</td>\n",
              "      <td>12.0</td>\n",
              "      <td>97.0</td>\n",
              "      <td>16.0</td>\n",
              "      <td>2110</td>\n",
              "      <td>16654</td>\n",
              "      <td>1353</td>\n",
              "      <td>1570</td>\n",
              "      <td>746.0</td>\n",
              "      <td>1391.0</td>\n",
              "      <td>230.0</td>\n",
              "      <td>7632</td>\n",
              "      <td>12922</td>\n",
              "      <td>0.0</td>\n",
              "      <td>135.0</td>\n",
              "      <td>12.0</td>\n",
              "      <td>3627.0</td>\n",
              "      <td>1861</td>\n",
              "      <td>709.0</td>\n",
              "      <td>996.0</td>\n",
              "      <td>187.0</td>\n",
              "      <td>2355</td>\n",
              "      <td>4678.0</td>\n",
              "      <td>400.0</td>\n",
              "      <td>32</td>\n",
              "      <td>7.0</td>\n",
              "      <td>0.0</td>\n",
              "      <td>0.0</td>\n",
              "      <td>65817.0</td>\n",
              "    </tr>\n",
              "    <tr>\n",
              "      <th>343</th>\n",
              "      <td>2019</td>\n",
              "      <td>8</td>\n",
              "      <td>318</td>\n",
              "      <td>1.0</td>\n",
              "      <td>6</td>\n",
              "      <td>170.0</td>\n",
              "      <td>457</td>\n",
              "      <td>4760</td>\n",
              "      <td>460.0</td>\n",
              "      <td>156.0</td>\n",
              "      <td>2437.0</td>\n",
              "      <td>433</td>\n",
              "      <td>103</td>\n",
              "      <td>3181</td>\n",
              "      <td>587</td>\n",
              "      <td>6452</td>\n",
              "      <td>1215</td>\n",
              "      <td>1</td>\n",
              "      <td>1.0</td>\n",
              "      <td>2245.0</td>\n",
              "      <td>9.0</td>\n",
              "      <td>98.0</td>\n",
              "      <td>17.0</td>\n",
              "      <td>1794</td>\n",
              "      <td>16136</td>\n",
              "      <td>1361</td>\n",
              "      <td>1568</td>\n",
              "      <td>674.0</td>\n",
              "      <td>1534.0</td>\n",
              "      <td>185.0</td>\n",
              "      <td>7280</td>\n",
              "      <td>12602</td>\n",
              "      <td>0.0</td>\n",
              "      <td>132.0</td>\n",
              "      <td>12.0</td>\n",
              "      <td>3546.0</td>\n",
              "      <td>1862</td>\n",
              "      <td>668.0</td>\n",
              "      <td>1067.0</td>\n",
              "      <td>171.0</td>\n",
              "      <td>2081</td>\n",
              "      <td>4662.0</td>\n",
              "      <td>367.0</td>\n",
              "      <td>27</td>\n",
              "      <td>8.0</td>\n",
              "      <td>2.0</td>\n",
              "      <td>0.0</td>\n",
              "      <td>65285.0</td>\n",
              "    </tr>\n",
              "  </tbody>\n",
              "</table>\n",
              "</div>"
            ],
            "text/plain": [
              "     vano  mes  ...  pol_civis_mortos_serv  registro_ocorrencias\n",
              "324  2018    1  ...                    1.0               67683.0\n",
              "325  2018    2  ...                    0.0               61383.0\n",
              "326  2018    3  ...                    0.0               66035.0\n",
              "327  2018    4  ...                    0.0               64527.0\n",
              "328  2018    5  ...                    0.0               66922.0\n",
              "329  2018    6  ...                    1.0               62142.0\n",
              "330  2018    7  ...                    1.0               62689.0\n",
              "331  2018    8  ...                    0.0               65797.0\n",
              "332  2018    9  ...                    0.0               62376.0\n",
              "333  2018   10  ...                    1.0               65589.0\n",
              "334  2018   11  ...                    0.0               63281.0\n",
              "335  2018   12  ...                    0.0               62043.0\n",
              "336  2019    1  ...                    0.0               69609.0\n",
              "337  2019    2  ...                    0.0               64967.0\n",
              "338  2019    3  ...                    0.0               72100.0\n",
              "339  2019    4  ...                    0.0               67797.0\n",
              "340  2019    5  ...                    0.0               68336.0\n",
              "341  2019    6  ...                    0.0               61202.0\n",
              "342  2019    7  ...                    0.0               65817.0\n",
              "343  2019    8  ...                    0.0               65285.0\n",
              "\n",
              "[20 rows x 48 columns]"
            ]
          },
          "metadata": {
            "tags": []
          },
          "execution_count": 7
        }
      ]
    },
    {
      "cell_type": "markdown",
      "metadata": {
        "id": "lt5Rp50BtNTo",
        "colab_type": "text"
      },
      "source": [
        "# Visualização de valores ausentes no DataSet\n",
        "\n",
        "* Sem dúvidas, um dos processos que podem levar mais tempo para um Cientista de Dados, é realizar a limpeza e a preparação das informações.\n",
        "\n",
        "* Esse processo pode ser custoso e demorado. É necessário identificar os dados que estão faltando e descobrir se existem possíveis valores que podem alterar o resultado. Sem o tratamento adequado, não é possível realizar uma análise concreta.\n",
        "\n",
        "* Não só como se deparar com valores inconsistentes, dados não gravados e outliers. É importante conseguir “reformar” os dados para que possam ser utilizadas futuramente.\n",
        "\n"
      ]
    },
    {
      "cell_type": "code",
      "metadata": {
        "id": "MiLv7xQ9t3_h",
        "colab_type": "code",
        "outputId": "b8090975-7d51-4ec3-d164-591b1949fa40",
        "colab": {
          "base_uri": "https://localhost:8080/",
          "height": 1000
        }
      },
      "source": [
        "# Valores ausentes apresentados de forma percentual\n",
        "ausente = (df_rj.isnull().sum() / df_rj.shape[0]).sort_values(ascending=False)\n",
        "df_n = pd.DataFrame(ausente)\n",
        "df_n.style.format(\"{:.2%}\")\n"
      ],
      "execution_count": 8,
      "outputs": [
        {
          "output_type": "execute_result",
          "data": {
            "text/html": [
              "<style  type=\"text/css\" >\n",
              "</style><table id=\"T_69a30b58_7f2e_11ea_b607_0242ac1c0002\" ><thead>    <tr>        <th class=\"blank level0\" ></th>        <th class=\"col_heading level0 col0\" >0</th>    </tr></thead><tbody>\n",
              "                <tr>\n",
              "                        <th id=\"T_69a30b58_7f2e_11ea_b607_0242ac1c0002level0_row0\" class=\"row_heading level0 row0\" >roubo_bicicleta</th>\n",
              "                        <td id=\"T_69a30b58_7f2e_11ea_b607_0242ac1c0002row0_col0\" class=\"data row0 col0\" >80.23%</td>\n",
              "            </tr>\n",
              "            <tr>\n",
              "                        <th id=\"T_69a30b58_7f2e_11ea_b607_0242ac1c0002level0_row1\" class=\"row_heading level0 row1\" >furto_bicicleta</th>\n",
              "                        <td id=\"T_69a30b58_7f2e_11ea_b607_0242ac1c0002row1_col0\" class=\"data row1 col0\" >80.23%</td>\n",
              "            </tr>\n",
              "            <tr>\n",
              "                        <th id=\"T_69a30b58_7f2e_11ea_b607_0242ac1c0002level0_row2\" class=\"row_heading level0 row2\" >apreensao_drogas_sem_autor</th>\n",
              "                        <td id=\"T_69a30b58_7f2e_11ea_b607_0242ac1c0002row2_col0\" class=\"data row2 col0\" >52.33%</td>\n",
              "            </tr>\n",
              "            <tr>\n",
              "                        <th id=\"T_69a30b58_7f2e_11ea_b607_0242ac1c0002level0_row3\" class=\"row_heading level0 row3\" >posse_drogas</th>\n",
              "                        <td id=\"T_69a30b58_7f2e_11ea_b607_0242ac1c0002row3_col0\" class=\"data row3 col0\" >52.33%</td>\n",
              "            </tr>\n",
              "            <tr>\n",
              "                        <th id=\"T_69a30b58_7f2e_11ea_b607_0242ac1c0002level0_row4\" class=\"row_heading level0 row4\" >apf</th>\n",
              "                        <td id=\"T_69a30b58_7f2e_11ea_b607_0242ac1c0002row4_col0\" class=\"data row4 col0\" >52.33%</td>\n",
              "            </tr>\n",
              "            <tr>\n",
              "                        <th id=\"T_69a30b58_7f2e_11ea_b607_0242ac1c0002level0_row5\" class=\"row_heading level0 row5\" >aaapai</th>\n",
              "                        <td id=\"T_69a30b58_7f2e_11ea_b607_0242ac1c0002row5_col0\" class=\"data row5 col0\" >52.33%</td>\n",
              "            </tr>\n",
              "            <tr>\n",
              "                        <th id=\"T_69a30b58_7f2e_11ea_b607_0242ac1c0002level0_row6\" class=\"row_heading level0 row6\" >cmp</th>\n",
              "                        <td id=\"T_69a30b58_7f2e_11ea_b607_0242ac1c0002row6_col0\" class=\"data row6 col0\" >52.33%</td>\n",
              "            </tr>\n",
              "            <tr>\n",
              "                        <th id=\"T_69a30b58_7f2e_11ea_b607_0242ac1c0002level0_row7\" class=\"row_heading level0 row7\" >trafico_drogas</th>\n",
              "                        <td id=\"T_69a30b58_7f2e_11ea_b607_0242ac1c0002row7_col0\" class=\"data row7 col0\" >52.33%</td>\n",
              "            </tr>\n",
              "            <tr>\n",
              "                        <th id=\"T_69a30b58_7f2e_11ea_b607_0242ac1c0002level0_row8\" class=\"row_heading level0 row8\" >cmba</th>\n",
              "                        <td id=\"T_69a30b58_7f2e_11ea_b607_0242ac1c0002row8_col0\" class=\"data row8 col0\" >52.33%</td>\n",
              "            </tr>\n",
              "            <tr>\n",
              "                        <th id=\"T_69a30b58_7f2e_11ea_b607_0242ac1c0002level0_row9\" class=\"row_heading level0 row9\" >sequestro_relampago</th>\n",
              "                        <td id=\"T_69a30b58_7f2e_11ea_b607_0242ac1c0002row9_col0\" class=\"data row9 col0\" >41.86%</td>\n",
              "            </tr>\n",
              "            <tr>\n",
              "                        <th id=\"T_69a30b58_7f2e_11ea_b607_0242ac1c0002level0_row10\" class=\"row_heading level0 row10\" >furto_coletivo</th>\n",
              "                        <td id=\"T_69a30b58_7f2e_11ea_b607_0242ac1c0002row10_col0\" class=\"data row10 col0\" >41.86%</td>\n",
              "            </tr>\n",
              "            <tr>\n",
              "                        <th id=\"T_69a30b58_7f2e_11ea_b607_0242ac1c0002level0_row11\" class=\"row_heading level0 row11\" >extorsao</th>\n",
              "                        <td id=\"T_69a30b58_7f2e_11ea_b607_0242ac1c0002row11_col0\" class=\"data row11 col0\" >41.86%</td>\n",
              "            </tr>\n",
              "            <tr>\n",
              "                        <th id=\"T_69a30b58_7f2e_11ea_b607_0242ac1c0002level0_row12\" class=\"row_heading level0 row12\" >furto_celular</th>\n",
              "                        <td id=\"T_69a30b58_7f2e_11ea_b607_0242ac1c0002row12_col0\" class=\"data row12 col0\" >41.86%</td>\n",
              "            </tr>\n",
              "            <tr>\n",
              "                        <th id=\"T_69a30b58_7f2e_11ea_b607_0242ac1c0002level0_row13\" class=\"row_heading level0 row13\" >roubo_apos_saque</th>\n",
              "                        <td id=\"T_69a30b58_7f2e_11ea_b607_0242ac1c0002row13_col0\" class=\"data row13 col0\" >41.86%</td>\n",
              "            </tr>\n",
              "            <tr>\n",
              "                        <th id=\"T_69a30b58_7f2e_11ea_b607_0242ac1c0002level0_row14\" class=\"row_heading level0 row14\" >roubo_conducao_saque</th>\n",
              "                        <td id=\"T_69a30b58_7f2e_11ea_b607_0242ac1c0002row14_col0\" class=\"data row14 col0\" >41.86%</td>\n",
              "            </tr>\n",
              "            <tr>\n",
              "                        <th id=\"T_69a30b58_7f2e_11ea_b607_0242ac1c0002level0_row15\" class=\"row_heading level0 row15\" >roubo_cx_eletronico</th>\n",
              "                        <td id=\"T_69a30b58_7f2e_11ea_b607_0242ac1c0002row15_col0\" class=\"data row15 col0\" >41.86%</td>\n",
              "            </tr>\n",
              "            <tr>\n",
              "                        <th id=\"T_69a30b58_7f2e_11ea_b607_0242ac1c0002level0_row16\" class=\"row_heading level0 row16\" >estupro</th>\n",
              "                        <td id=\"T_69a30b58_7f2e_11ea_b607_0242ac1c0002row16_col0\" class=\"data row16 col0\" >41.86%</td>\n",
              "            </tr>\n",
              "            <tr>\n",
              "                        <th id=\"T_69a30b58_7f2e_11ea_b607_0242ac1c0002level0_row17\" class=\"row_heading level0 row17\" >estelionato</th>\n",
              "                        <td id=\"T_69a30b58_7f2e_11ea_b607_0242ac1c0002row17_col0\" class=\"data row17 col0\" >41.86%</td>\n",
              "            </tr>\n",
              "            <tr>\n",
              "                        <th id=\"T_69a30b58_7f2e_11ea_b607_0242ac1c0002level0_row18\" class=\"row_heading level0 row18\" >pol_civis_mortos_serv</th>\n",
              "                        <td id=\"T_69a30b58_7f2e_11ea_b607_0242ac1c0002row18_col0\" class=\"data row18 col0\" >41.86%</td>\n",
              "            </tr>\n",
              "            <tr>\n",
              "                        <th id=\"T_69a30b58_7f2e_11ea_b607_0242ac1c0002level0_row19\" class=\"row_heading level0 row19\" >pol_militares_mortos_serv</th>\n",
              "                        <td id=\"T_69a30b58_7f2e_11ea_b607_0242ac1c0002row19_col0\" class=\"data row19 col0\" >41.86%</td>\n",
              "            </tr>\n",
              "            <tr>\n",
              "                        <th id=\"T_69a30b58_7f2e_11ea_b607_0242ac1c0002level0_row20\" class=\"row_heading level0 row20\" >pessoas_desaparecidas</th>\n",
              "                        <td id=\"T_69a30b58_7f2e_11ea_b607_0242ac1c0002row20_col0\" class=\"data row20 col0\" >38.37%</td>\n",
              "            </tr>\n",
              "            <tr>\n",
              "                        <th id=\"T_69a30b58_7f2e_11ea_b607_0242ac1c0002level0_row21\" class=\"row_heading level0 row21\" >encontro_ossada</th>\n",
              "                        <td id=\"T_69a30b58_7f2e_11ea_b607_0242ac1c0002row21_col0\" class=\"data row21 col0\" >38.37%</td>\n",
              "            </tr>\n",
              "            <tr>\n",
              "                        <th id=\"T_69a30b58_7f2e_11ea_b607_0242ac1c0002level0_row22\" class=\"row_heading level0 row22\" >roubo_celular</th>\n",
              "                        <td id=\"T_69a30b58_7f2e_11ea_b607_0242ac1c0002row22_col0\" class=\"data row22 col0\" >31.40%</td>\n",
              "            </tr>\n",
              "            <tr>\n",
              "                        <th id=\"T_69a30b58_7f2e_11ea_b607_0242ac1c0002level0_row23\" class=\"row_heading level0 row23\" >lesao_corp_culposa</th>\n",
              "                        <td id=\"T_69a30b58_7f2e_11ea_b607_0242ac1c0002row23_col0\" class=\"data row23 col0\" >27.91%</td>\n",
              "            </tr>\n",
              "            <tr>\n",
              "                        <th id=\"T_69a30b58_7f2e_11ea_b607_0242ac1c0002level0_row24\" class=\"row_heading level0 row24\" >ameaca</th>\n",
              "                        <td id=\"T_69a30b58_7f2e_11ea_b607_0242ac1c0002row24_col0\" class=\"data row24 col0\" >27.91%</td>\n",
              "            </tr>\n",
              "            <tr>\n",
              "                        <th id=\"T_69a30b58_7f2e_11ea_b607_0242ac1c0002level0_row25\" class=\"row_heading level0 row25\" >sequestro</th>\n",
              "                        <td id=\"T_69a30b58_7f2e_11ea_b607_0242ac1c0002row25_col0\" class=\"data row25 col0\" >27.91%</td>\n",
              "            </tr>\n",
              "            <tr>\n",
              "                        <th id=\"T_69a30b58_7f2e_11ea_b607_0242ac1c0002level0_row26\" class=\"row_heading level0 row26\" >lesao_corp_morte</th>\n",
              "                        <td id=\"T_69a30b58_7f2e_11ea_b607_0242ac1c0002row26_col0\" class=\"data row26 col0\" >27.91%</td>\n",
              "            </tr>\n",
              "            <tr>\n",
              "                        <th id=\"T_69a30b58_7f2e_11ea_b607_0242ac1c0002level0_row27\" class=\"row_heading level0 row27\" >registro_ocorrencias</th>\n",
              "                        <td id=\"T_69a30b58_7f2e_11ea_b607_0242ac1c0002row27_col0\" class=\"data row27 col0\" >27.91%</td>\n",
              "            </tr>\n",
              "            <tr>\n",
              "                        <th id=\"T_69a30b58_7f2e_11ea_b607_0242ac1c0002level0_row28\" class=\"row_heading level0 row28\" >hom_por_interv_policial</th>\n",
              "                        <td id=\"T_69a30b58_7f2e_11ea_b607_0242ac1c0002row28_col0\" class=\"data row28 col0\" >24.42%</td>\n",
              "            </tr>\n",
              "            <tr>\n",
              "                        <th id=\"T_69a30b58_7f2e_11ea_b607_0242ac1c0002level0_row29\" class=\"row_heading level0 row29\" >hom_culposo</th>\n",
              "                        <td id=\"T_69a30b58_7f2e_11ea_b607_0242ac1c0002row29_col0\" class=\"data row29 col0\" >24.42%</td>\n",
              "            </tr>\n",
              "            <tr>\n",
              "                        <th id=\"T_69a30b58_7f2e_11ea_b607_0242ac1c0002level0_row30\" class=\"row_heading level0 row30\" >tentat_hom</th>\n",
              "                        <td id=\"T_69a30b58_7f2e_11ea_b607_0242ac1c0002row30_col0\" class=\"data row30 col0\" >0.00%</td>\n",
              "            </tr>\n",
              "            <tr>\n",
              "                        <th id=\"T_69a30b58_7f2e_11ea_b607_0242ac1c0002level0_row31\" class=\"row_heading level0 row31\" >roubo_comercio</th>\n",
              "                        <td id=\"T_69a30b58_7f2e_11ea_b607_0242ac1c0002row31_col0\" class=\"data row31 col0\" >0.00%</td>\n",
              "            </tr>\n",
              "            <tr>\n",
              "                        <th id=\"T_69a30b58_7f2e_11ea_b607_0242ac1c0002level0_row32\" class=\"row_heading level0 row32\" >roubo_residencia</th>\n",
              "                        <td id=\"T_69a30b58_7f2e_11ea_b607_0242ac1c0002row32_col0\" class=\"data row32 col0\" >0.00%</td>\n",
              "            </tr>\n",
              "            <tr>\n",
              "                        <th id=\"T_69a30b58_7f2e_11ea_b607_0242ac1c0002level0_row33\" class=\"row_heading level0 row33\" >latrocinio</th>\n",
              "                        <td id=\"T_69a30b58_7f2e_11ea_b607_0242ac1c0002row33_col0\" class=\"data row33 col0\" >0.00%</td>\n",
              "            </tr>\n",
              "            <tr>\n",
              "                        <th id=\"T_69a30b58_7f2e_11ea_b607_0242ac1c0002level0_row34\" class=\"row_heading level0 row34\" >lesao_corp_dolosa</th>\n",
              "                        <td id=\"T_69a30b58_7f2e_11ea_b607_0242ac1c0002row34_col0\" class=\"data row34 col0\" >0.00%</td>\n",
              "            </tr>\n",
              "            <tr>\n",
              "                        <th id=\"T_69a30b58_7f2e_11ea_b607_0242ac1c0002level0_row35\" class=\"row_heading level0 row35\" >hom_doloso</th>\n",
              "                        <td id=\"T_69a30b58_7f2e_11ea_b607_0242ac1c0002row35_col0\" class=\"data row35 col0\" >0.00%</td>\n",
              "            </tr>\n",
              "            <tr>\n",
              "                        <th id=\"T_69a30b58_7f2e_11ea_b607_0242ac1c0002level0_row36\" class=\"row_heading level0 row36\" >roubo_transeunte</th>\n",
              "                        <td id=\"T_69a30b58_7f2e_11ea_b607_0242ac1c0002row36_col0\" class=\"data row36 col0\" >0.00%</td>\n",
              "            </tr>\n",
              "            <tr>\n",
              "                        <th id=\"T_69a30b58_7f2e_11ea_b607_0242ac1c0002level0_row37\" class=\"row_heading level0 row37\" >mes</th>\n",
              "                        <td id=\"T_69a30b58_7f2e_11ea_b607_0242ac1c0002row37_col0\" class=\"data row37 col0\" >0.00%</td>\n",
              "            </tr>\n",
              "            <tr>\n",
              "                        <th id=\"T_69a30b58_7f2e_11ea_b607_0242ac1c0002level0_row38\" class=\"row_heading level0 row38\" >roubo_veiculo</th>\n",
              "                        <td id=\"T_69a30b58_7f2e_11ea_b607_0242ac1c0002row38_col0\" class=\"data row38 col0\" >0.00%</td>\n",
              "            </tr>\n",
              "            <tr>\n",
              "                        <th id=\"T_69a30b58_7f2e_11ea_b607_0242ac1c0002level0_row39\" class=\"row_heading level0 row39\" >roubo_carga</th>\n",
              "                        <td id=\"T_69a30b58_7f2e_11ea_b607_0242ac1c0002row39_col0\" class=\"data row39 col0\" >0.00%</td>\n",
              "            </tr>\n",
              "            <tr>\n",
              "                        <th id=\"T_69a30b58_7f2e_11ea_b607_0242ac1c0002level0_row40\" class=\"row_heading level0 row40\" >fase</th>\n",
              "                        <td id=\"T_69a30b58_7f2e_11ea_b607_0242ac1c0002row40_col0\" class=\"data row40 col0\" >0.00%</td>\n",
              "            </tr>\n",
              "            <tr>\n",
              "                        <th id=\"T_69a30b58_7f2e_11ea_b607_0242ac1c0002level0_row41\" class=\"row_heading level0 row41\" >roubo_em_coletivo</th>\n",
              "                        <td id=\"T_69a30b58_7f2e_11ea_b607_0242ac1c0002row41_col0\" class=\"data row41 col0\" >0.00%</td>\n",
              "            </tr>\n",
              "            <tr>\n",
              "                        <th id=\"T_69a30b58_7f2e_11ea_b607_0242ac1c0002level0_row42\" class=\"row_heading level0 row42\" >roubo_banco</th>\n",
              "                        <td id=\"T_69a30b58_7f2e_11ea_b607_0242ac1c0002row42_col0\" class=\"data row42 col0\" >0.00%</td>\n",
              "            </tr>\n",
              "            <tr>\n",
              "                        <th id=\"T_69a30b58_7f2e_11ea_b607_0242ac1c0002level0_row43\" class=\"row_heading level0 row43\" >outros_roubos</th>\n",
              "                        <td id=\"T_69a30b58_7f2e_11ea_b607_0242ac1c0002row43_col0\" class=\"data row43 col0\" >0.00%</td>\n",
              "            </tr>\n",
              "            <tr>\n",
              "                        <th id=\"T_69a30b58_7f2e_11ea_b607_0242ac1c0002level0_row44\" class=\"row_heading level0 row44\" >total_roubos</th>\n",
              "                        <td id=\"T_69a30b58_7f2e_11ea_b607_0242ac1c0002row44_col0\" class=\"data row44 col0\" >0.00%</td>\n",
              "            </tr>\n",
              "            <tr>\n",
              "                        <th id=\"T_69a30b58_7f2e_11ea_b607_0242ac1c0002level0_row45\" class=\"row_heading level0 row45\" >furto_veiculos</th>\n",
              "                        <td id=\"T_69a30b58_7f2e_11ea_b607_0242ac1c0002row45_col0\" class=\"data row45 col0\" >0.00%</td>\n",
              "            </tr>\n",
              "            <tr>\n",
              "                        <th id=\"T_69a30b58_7f2e_11ea_b607_0242ac1c0002level0_row46\" class=\"row_heading level0 row46\" >furto_transeunte</th>\n",
              "                        <td id=\"T_69a30b58_7f2e_11ea_b607_0242ac1c0002row46_col0\" class=\"data row46 col0\" >0.00%</td>\n",
              "            </tr>\n",
              "            <tr>\n",
              "                        <th id=\"T_69a30b58_7f2e_11ea_b607_0242ac1c0002level0_row47\" class=\"row_heading level0 row47\" >outros_furtos</th>\n",
              "                        <td id=\"T_69a30b58_7f2e_11ea_b607_0242ac1c0002row47_col0\" class=\"data row47 col0\" >0.00%</td>\n",
              "            </tr>\n",
              "            <tr>\n",
              "                        <th id=\"T_69a30b58_7f2e_11ea_b607_0242ac1c0002level0_row48\" class=\"row_heading level0 row48\" >total_furtos</th>\n",
              "                        <td id=\"T_69a30b58_7f2e_11ea_b607_0242ac1c0002row48_col0\" class=\"data row48 col0\" >0.00%</td>\n",
              "            </tr>\n",
              "            <tr>\n",
              "                        <th id=\"T_69a30b58_7f2e_11ea_b607_0242ac1c0002level0_row49\" class=\"row_heading level0 row49\" >apreensao_drogas</th>\n",
              "                        <td id=\"T_69a30b58_7f2e_11ea_b607_0242ac1c0002row49_col0\" class=\"data row49 col0\" >0.00%</td>\n",
              "            </tr>\n",
              "            <tr>\n",
              "                        <th id=\"T_69a30b58_7f2e_11ea_b607_0242ac1c0002level0_row50\" class=\"row_heading level0 row50\" >recuperacao_veiculos</th>\n",
              "                        <td id=\"T_69a30b58_7f2e_11ea_b607_0242ac1c0002row50_col0\" class=\"data row50 col0\" >0.00%</td>\n",
              "            </tr>\n",
              "            <tr>\n",
              "                        <th id=\"T_69a30b58_7f2e_11ea_b607_0242ac1c0002level0_row51\" class=\"row_heading level0 row51\" >encontro_cadaver</th>\n",
              "                        <td id=\"T_69a30b58_7f2e_11ea_b607_0242ac1c0002row51_col0\" class=\"data row51 col0\" >0.00%</td>\n",
              "            </tr>\n",
              "            <tr>\n",
              "                        <th id=\"T_69a30b58_7f2e_11ea_b607_0242ac1c0002level0_row52\" class=\"row_heading level0 row52\" >indicador_letalidade</th>\n",
              "                        <td id=\"T_69a30b58_7f2e_11ea_b607_0242ac1c0002row52_col0\" class=\"data row52 col0\" >0.00%</td>\n",
              "            </tr>\n",
              "            <tr>\n",
              "                        <th id=\"T_69a30b58_7f2e_11ea_b607_0242ac1c0002level0_row53\" class=\"row_heading level0 row53\" >indicador_roubo_rua</th>\n",
              "                        <td id=\"T_69a30b58_7f2e_11ea_b607_0242ac1c0002row53_col0\" class=\"data row53 col0\" >0.00%</td>\n",
              "            </tr>\n",
              "            <tr>\n",
              "                        <th id=\"T_69a30b58_7f2e_11ea_b607_0242ac1c0002level0_row54\" class=\"row_heading level0 row54\" >indicador_roubo_veic</th>\n",
              "                        <td id=\"T_69a30b58_7f2e_11ea_b607_0242ac1c0002row54_col0\" class=\"data row54 col0\" >0.00%</td>\n",
              "            </tr>\n",
              "            <tr>\n",
              "                        <th id=\"T_69a30b58_7f2e_11ea_b607_0242ac1c0002level0_row55\" class=\"row_heading level0 row55\" >vano</th>\n",
              "                        <td id=\"T_69a30b58_7f2e_11ea_b607_0242ac1c0002row55_col0\" class=\"data row55 col0\" >0.00%</td>\n",
              "            </tr>\n",
              "    </tbody></table>"
            ],
            "text/plain": [
              "<pandas.io.formats.style.Styler at 0x7f3a41f21630>"
            ]
          },
          "metadata": {
            "tags": []
          },
          "execution_count": 8
        }
      ]
    },
    {
      "cell_type": "markdown",
      "metadata": {
        "id": "4tBuobylZ46k",
        "colab_type": "text"
      },
      "source": [
        "# Preenchendo os valores ausentes com a Média"
      ]
    },
    {
      "cell_type": "code",
      "metadata": {
        "id": "Bmr6KjBQZ_Ix",
        "colab_type": "code",
        "outputId": "b826a0f4-cbfc-441a-ad67-c19743d2f8f0",
        "colab": {
          "base_uri": "https://localhost:8080/",
          "height": 34
        }
      },
      "source": [
        "roubo_bicicleta_mean = df_rj.roubo_bicicleta.mean()\n",
        "df_rj.fillna(roubo_bicicleta_mean, inplace= True)\n",
        "\n",
        "df_rj.roubo_bicicleta.isnull().sum()"
      ],
      "execution_count": 9,
      "outputs": [
        {
          "output_type": "execute_result",
          "data": {
            "text/plain": [
              "0"
            ]
          },
          "metadata": {
            "tags": []
          },
          "execution_count": 9
        }
      ]
    },
    {
      "cell_type": "code",
      "metadata": {
        "id": "I5Mn0TKnbWIX",
        "colab_type": "code",
        "outputId": "b73843f1-3e31-4ad1-98e8-cb9951547701",
        "colab": {
          "base_uri": "https://localhost:8080/",
          "height": 34
        }
      },
      "source": [
        "furto_bicicleta_mean = df_rj.furto_bicicleta.mean()\n",
        "df_rj.fillna(furto_bicicleta_mean, inplace= True)\n",
        "\n",
        "df_rj.furto_bicicleta.isnull().sum()"
      ],
      "execution_count": 10,
      "outputs": [
        {
          "output_type": "execute_result",
          "data": {
            "text/plain": [
              "0"
            ]
          },
          "metadata": {
            "tags": []
          },
          "execution_count": 10
        }
      ]
    },
    {
      "cell_type": "code",
      "metadata": {
        "id": "ypJinzTzbtl3",
        "colab_type": "code",
        "outputId": "a6440254-7c25-4b31-a5f8-cf9a4517db35",
        "colab": {
          "base_uri": "https://localhost:8080/",
          "height": 34
        }
      },
      "source": [
        "apreensao_drogas_sem_autor_mean = df_rj.apreensao_drogas_sem_autor.mean()\n",
        "df_rj.fillna(apreensao_drogas_sem_autor_mean,inplace= True)\n",
        "\n",
        "df_rj.apreensao_drogas_sem_autor.isnull().sum()"
      ],
      "execution_count": 11,
      "outputs": [
        {
          "output_type": "execute_result",
          "data": {
            "text/plain": [
              "0"
            ]
          },
          "metadata": {
            "tags": []
          },
          "execution_count": 11
        }
      ]
    },
    {
      "cell_type": "code",
      "metadata": {
        "id": "67DHROvEcEaJ",
        "colab_type": "code",
        "outputId": "df94cfaf-7e7d-4ed8-e216-75e520ea699c",
        "colab": {
          "base_uri": "https://localhost:8080/",
          "height": 34
        }
      },
      "source": [
        "posse_drogas_mean = df_rj.posse_drogas.mean()\n",
        "df_rj.fillna(posse_drogas_mean, inplace = True)\n",
        "\n",
        "df_rj.posse_drogas.isnull().sum()"
      ],
      "execution_count": 12,
      "outputs": [
        {
          "output_type": "execute_result",
          "data": {
            "text/plain": [
              "0"
            ]
          },
          "metadata": {
            "tags": []
          },
          "execution_count": 12
        }
      ]
    },
    {
      "cell_type": "markdown",
      "metadata": {
        "id": "-OTHMCOgMJQw",
        "colab_type": "text"
      },
      "source": [
        "# Uma definição entre Roubo e Furto\n",
        "\n",
        "* Se um ladrão toma algo que pertence a outra pessoa sem estabelecer contato com ela, <b>comete furto</b>. Se houver contato com a vítima, violência ou ameaça,<b> é roubo</b> – assalto é um termo que não existe no direito, mas equivale ao roubo."
      ]
    },
    {
      "cell_type": "markdown",
      "metadata": {
        "id": "MJaP_JCbG2Fh",
        "colab_type": "text"
      },
      "source": [
        "# Dicionário das Variáveis\n",
        "\n",
        "`vano` = Ano da Ocorrência <br>\n",
        "`mes ` = Mês da Ocorrência <br>\n",
        "`hom_doloso` = Quantidade de Homicídios dolosos ( com intenção de matar <br>\n",
        "`lesao_corp_morte` = Quantidade de lesão corporal seguido de morte<br>\n",
        "`latrocinio` = Quantidade de crimes de latrocínio <br>\n",
        "`hom_por_interv_policial` = <br>\n",
        "`tentat_hom` = Quantidade de tentativa de homicídio<br>\n",
        "`lesao_corp_dolosa` = \" Quantidade de lesão corporal dolosa<br>\n",
        "`estupro` = Quantidade de estupros <br>\n",
        "`hom_culposo` = Quantidade de homicidios culposo ( Sem intenção de matar ) <br>\n",
        "`lesao_corp_culposo` = Quantidade de lesão coporal culposo <br>\n",
        "`roubo_comercio` = Quantidade de roubo em comércio <br>\n",
        "`roubo_residencia` = Quantidade de roubo em residência <br>\n",
        "`roubo_veiculo` = Quantidade de roubo de veículos <br>\n",
        "`roubo_carga` = Quantidade de roubo de carga <br>\n",
        "`roubo_transeunte` = Quantidade de roubo transeuntes (aquele que não existem ou não são deixados vestígios) <br>\n",
        "`roubo_em_coletivo` = Quantidade de roubo no transporte coletivo <br>\n",
        "`roubo_banco` = Quantidade de roubo a bancos <br>\n",
        "`roubo_cx_eletronico` = Quantidade de roubo a caixas eletrônicos <br>\n",
        "`roubo_celular` = Quantidade de roubo de celulares\n",
        "`roubo_conducao_saque` = Quantidade de roubo com a vítima no caixa eletrônico <br>\n",
        "`roubo_apos_saque` = Quantidade de roubo após a vítima efetuar saques em bancos ou caixas eletrônicos.<br>\n",
        "`roubo_bicicleta` = Quantidade de roubo de bicicletas <br>\n",
        "`outros_roubos` = Quantidade de roubos que não foram citados nas colunas anteriores.\n",
        "`total_roubos` = Quantidade de roubos registrados <br>\n",
        "`furto_veículos` = Quantide de furtos de veículos <br>\n",
        "`furto_coletivo` = Quantidade de furtos no transporte coletivo <br>\n",
        "`furto_celular` = Quantidade de furtos de celulares <br>\n",
        "`furto_bicicleta` = Quantidade de furtos de bicicletas <br>\n",
        "`outros_furtos` = Quantidade de outros furtos não citados anteriormente <br>\n",
        "`total_furtos` = Quantidade de furtos registrados <br>\n",
        "`sequestro` = Quantidade de sequestros <br>\n",
        "`extorsão` = Quantidade de crimes de extorsão ( Ato de obrigar alguém a fazer ou deixar de fazer alguma coisa, por meio de ameaça ou violência, com a intenção de obter vantagem, recompensa, lucro) <br>\n",
        "`sequestro_relampago` = Quantidade de sequestros relâmpagos <br>\n",
        "`estelionato` = Quantidade de crimes de estelionatos (Estelionato é capitulado segundo o código penal brasileiro como crime contra o patrimônio, sendo definido como \"obter, para si ou para outro, vantagem ilícita, em prejuízo alheio, induzindo ou mantendo alguém em erro, mediante artifício, ardil ou qualquer outro meio fraudulento) <br>\n",
        "`apreensao_drogas` = Quantidade de apreesão de drogras\n",
        "`posse_drogas` = Quantidade de ocorrências de posse de drogas <br>\n",
        "`trafico_drogas` = Quantidade de ocorrências para o tráfico de drogas <br>\n",
        "`apreensao_drogas_sem_autor` = Quantidade de ocorrências de apreensão de drogas sem autor. <br>\n",
        "`recuperacao_veiculo` = Quantidade de veículos recuperados <br>\n",
        "`ameaca` = Quantidade de ocorrências de ameaças <br>\n",
        "`pessoas_desaparecidas` = Quantidade de ocorrências de pessoas desaparecidas <br>\n",
        "`encontro_cadaver` = Quantidade de ocorrências de encontro de cadaveres <br>\n",
        "`encontro_ossada` = Qunatidade de ocorência de encontro de ossadas <br>\n",
        "`pol_militares_mortos_serv` = Quantide de policiais militares mortos em serviço <br>\n",
        "`pol_civis_mortos_serv` = Quantidade de policiais civis mortos em serviço <br>\n",
        "`registro_ocorrencias` = Quantidade de registros de ocorrências\n",
        "\n",
        "\n"
      ]
    },
    {
      "cell_type": "markdown",
      "metadata": {
        "id": "G6dnsNYm-41g",
        "colab_type": "text"
      },
      "source": [
        "## Informações Estatísticas da Violência no Rio de Janeiro\n",
        "\n",
        "Breve contextualização...\n",
        "\n",
        "Descreva e execute as seguintes etapas:\n",
        "\n",
        "* Imprima o resumo estatístico do seu DataFrame (`describe`)\n",
        "* Encontre as médias das seguintes variáveis (colunas):\n",
        "  * `roubo_veiculo`\n",
        "  * `furto_veiculos`\n",
        "  * `recuperacao_veiculos`\n",
        "* Calcule qual a porcentagem de carros recuperados em relação aos carros roubados + carros furtados:\n",
        "  * $\\frac{\\text{recuperacao_veiculos}}{\\text{roubo_veiculo} + \\text{furto_veiculos}}$\n",
        "* Encontre os valores máximos (`max`) e mínimos (`min`) da coluna `hom_doloso`\n"
      ]
    },
    {
      "cell_type": "code",
      "metadata": {
        "id": "uP9U09JSgZKr",
        "colab_type": "code",
        "outputId": "f33c3a16-5630-4f10-c5c4-5f1dbd614cdb",
        "colab": {
          "base_uri": "https://localhost:8080/",
          "height": 317
        }
      },
      "source": [
        "# Imprimindo as informações estatísticas\n",
        "\n",
        "df_rj.loc[324:343].describe()"
      ],
      "execution_count": 13,
      "outputs": [
        {
          "output_type": "execute_result",
          "data": {
            "text/html": [
              "<div>\n",
              "<style scoped>\n",
              "    .dataframe tbody tr th:only-of-type {\n",
              "        vertical-align: middle;\n",
              "    }\n",
              "\n",
              "    .dataframe tbody tr th {\n",
              "        vertical-align: top;\n",
              "    }\n",
              "\n",
              "    .dataframe thead th {\n",
              "        text-align: right;\n",
              "    }\n",
              "</style>\n",
              "<table border=\"1\" class=\"dataframe\">\n",
              "  <thead>\n",
              "    <tr style=\"text-align: right;\">\n",
              "      <th></th>\n",
              "      <th>vano</th>\n",
              "      <th>mes</th>\n",
              "      <th>hom_doloso</th>\n",
              "      <th>lesao_corp_morte</th>\n",
              "      <th>latrocinio</th>\n",
              "      <th>hom_por_interv_policial</th>\n",
              "      <th>tentat_hom</th>\n",
              "      <th>lesao_corp_dolosa</th>\n",
              "      <th>estupro</th>\n",
              "      <th>hom_culposo</th>\n",
              "      <th>lesao_corp_culposa</th>\n",
              "      <th>roubo_comercio</th>\n",
              "      <th>roubo_residencia</th>\n",
              "      <th>roubo_veiculo</th>\n",
              "      <th>roubo_carga</th>\n",
              "      <th>roubo_transeunte</th>\n",
              "      <th>roubo_em_coletivo</th>\n",
              "      <th>roubo_banco</th>\n",
              "      <th>roubo_cx_eletronico</th>\n",
              "      <th>roubo_celular</th>\n",
              "      <th>roubo_conducao_saque</th>\n",
              "      <th>roubo_apos_saque</th>\n",
              "      <th>roubo_bicicleta</th>\n",
              "      <th>outros_roubos</th>\n",
              "      <th>total_roubos</th>\n",
              "      <th>furto_veiculos</th>\n",
              "      <th>furto_transeunte</th>\n",
              "      <th>furto_coletivo</th>\n",
              "      <th>furto_celular</th>\n",
              "      <th>furto_bicicleta</th>\n",
              "      <th>outros_furtos</th>\n",
              "      <th>total_furtos</th>\n",
              "      <th>sequestro</th>\n",
              "      <th>extorsao</th>\n",
              "      <th>sequestro_relampago</th>\n",
              "      <th>estelionato</th>\n",
              "      <th>apreensao_drogas</th>\n",
              "      <th>posse_drogas</th>\n",
              "      <th>trafico_drogas</th>\n",
              "      <th>apreensao_drogas_sem_autor</th>\n",
              "      <th>recuperacao_veiculos</th>\n",
              "      <th>apf</th>\n",
              "      <th>aaapai</th>\n",
              "      <th>cmp</th>\n",
              "      <th>cmba</th>\n",
              "      <th>ameaca</th>\n",
              "      <th>pessoas_desaparecidas</th>\n",
              "      <th>encontro_cadaver</th>\n",
              "      <th>encontro_ossada</th>\n",
              "      <th>pol_militares_mortos_serv</th>\n",
              "      <th>pol_civis_mortos_serv</th>\n",
              "      <th>indicador_letalidade</th>\n",
              "      <th>indicador_roubo_rua</th>\n",
              "      <th>indicador_roubo_veic</th>\n",
              "      <th>registro_ocorrencias</th>\n",
              "      <th>fase</th>\n",
              "    </tr>\n",
              "  </thead>\n",
              "  <tbody>\n",
              "    <tr>\n",
              "      <th>count</th>\n",
              "      <td>20.000000</td>\n",
              "      <td>20.000000</td>\n",
              "      <td>20.0000</td>\n",
              "      <td>20.000000</td>\n",
              "      <td>20.000000</td>\n",
              "      <td>20.00000</td>\n",
              "      <td>20.000000</td>\n",
              "      <td>20.000000</td>\n",
              "      <td>20.000000</td>\n",
              "      <td>20.000000</td>\n",
              "      <td>20.000000</td>\n",
              "      <td>20.000000</td>\n",
              "      <td>20.000000</td>\n",
              "      <td>20.000000</td>\n",
              "      <td>20.00000</td>\n",
              "      <td>20.000000</td>\n",
              "      <td>20.000000</td>\n",
              "      <td>20.000000</td>\n",
              "      <td>20.000000</td>\n",
              "      <td>20.000000</td>\n",
              "      <td>20.000000</td>\n",
              "      <td>20.000000</td>\n",
              "      <td>20.000000</td>\n",
              "      <td>20.000000</td>\n",
              "      <td>20.000000</td>\n",
              "      <td>20.000000</td>\n",
              "      <td>20.000000</td>\n",
              "      <td>20.000000</td>\n",
              "      <td>20.000000</td>\n",
              "      <td>20.000000</td>\n",
              "      <td>20.000000</td>\n",
              "      <td>20.000000</td>\n",
              "      <td>20.000000</td>\n",
              "      <td>20.000000</td>\n",
              "      <td>20.0000</td>\n",
              "      <td>20.000000</td>\n",
              "      <td>20.000000</td>\n",
              "      <td>20.00000</td>\n",
              "      <td>20.000000</td>\n",
              "      <td>20.000000</td>\n",
              "      <td>20.000000</td>\n",
              "      <td>20.000000</td>\n",
              "      <td>20.000000</td>\n",
              "      <td>20.000000</td>\n",
              "      <td>20.00000</td>\n",
              "      <td>20.000000</td>\n",
              "      <td>20.000000</td>\n",
              "      <td>20.000000</td>\n",
              "      <td>20.000000</td>\n",
              "      <td>20.000000</td>\n",
              "      <td>20.000000</td>\n",
              "      <td>20.000000</td>\n",
              "      <td>20.000000</td>\n",
              "      <td>20.000000</td>\n",
              "      <td>20.000000</td>\n",
              "      <td>20.000000</td>\n",
              "    </tr>\n",
              "    <tr>\n",
              "      <th>mean</th>\n",
              "      <td>2018.400000</td>\n",
              "      <td>5.700000</td>\n",
              "      <td>383.3500</td>\n",
              "      <td>4.000000</td>\n",
              "      <td>12.900000</td>\n",
              "      <td>139.15000</td>\n",
              "      <td>504.750000</td>\n",
              "      <td>5280.850000</td>\n",
              "      <td>445.100000</td>\n",
              "      <td>159.800000</td>\n",
              "      <td>2289.700000</td>\n",
              "      <td>499.650000</td>\n",
              "      <td>102.650000</td>\n",
              "      <td>4005.450000</td>\n",
              "      <td>722.95000</td>\n",
              "      <td>7206.950000</td>\n",
              "      <td>1339.800000</td>\n",
              "      <td>1.700000</td>\n",
              "      <td>4.100000</td>\n",
              "      <td>2259.900000</td>\n",
              "      <td>8.350000</td>\n",
              "      <td>81.200000</td>\n",
              "      <td>14.000000</td>\n",
              "      <td>2407.200000</td>\n",
              "      <td>18653.900000</td>\n",
              "      <td>1330.300000</td>\n",
              "      <td>1735.950000</td>\n",
              "      <td>686.350000</td>\n",
              "      <td>1390.600000</td>\n",
              "      <td>173.200000</td>\n",
              "      <td>7151.850000</td>\n",
              "      <td>12468.250000</td>\n",
              "      <td>0.200000</td>\n",
              "      <td>134.200000</td>\n",
              "      <td>8.7000</td>\n",
              "      <td>3033.550000</td>\n",
              "      <td>1859.900000</td>\n",
              "      <td>695.65000</td>\n",
              "      <td>1024.150000</td>\n",
              "      <td>175.600000</td>\n",
              "      <td>2791.750000</td>\n",
              "      <td>2886.350000</td>\n",
              "      <td>536.000000</td>\n",
              "      <td>1435.900000</td>\n",
              "      <td>221.05000</td>\n",
              "      <td>4830.050000</td>\n",
              "      <td>397.650000</td>\n",
              "      <td>28.400000</td>\n",
              "      <td>2.850000</td>\n",
              "      <td>2.100000</td>\n",
              "      <td>0.200000</td>\n",
              "      <td>539.400000</td>\n",
              "      <td>10806.650000</td>\n",
              "      <td>4005.450000</td>\n",
              "      <td>65279.000000</td>\n",
              "      <td>2.900000</td>\n",
              "    </tr>\n",
              "    <tr>\n",
              "      <th>std</th>\n",
              "      <td>0.502625</td>\n",
              "      <td>3.278318</td>\n",
              "      <td>55.5274</td>\n",
              "      <td>1.973509</td>\n",
              "      <td>4.375771</td>\n",
              "      <td>28.53857</td>\n",
              "      <td>57.209564</td>\n",
              "      <td>436.480334</td>\n",
              "      <td>25.808811</td>\n",
              "      <td>15.517732</td>\n",
              "      <td>180.536656</td>\n",
              "      <td>83.612058</td>\n",
              "      <td>12.836113</td>\n",
              "      <td>633.282383</td>\n",
              "      <td>107.14696</td>\n",
              "      <td>521.709182</td>\n",
              "      <td>157.117656</td>\n",
              "      <td>1.128576</td>\n",
              "      <td>2.712544</td>\n",
              "      <td>148.326773</td>\n",
              "      <td>4.368247</td>\n",
              "      <td>22.894725</td>\n",
              "      <td>4.472136</td>\n",
              "      <td>312.031139</td>\n",
              "      <td>1485.125687</td>\n",
              "      <td>74.847283</td>\n",
              "      <td>352.916342</td>\n",
              "      <td>59.560032</td>\n",
              "      <td>180.359407</td>\n",
              "      <td>29.858614</td>\n",
              "      <td>552.670862</td>\n",
              "      <td>965.428014</td>\n",
              "      <td>0.523148</td>\n",
              "      <td>14.630897</td>\n",
              "      <td>3.4504</td>\n",
              "      <td>372.527424</td>\n",
              "      <td>138.415431</td>\n",
              "      <td>60.02129</td>\n",
              "      <td>85.391529</td>\n",
              "      <td>18.245115</td>\n",
              "      <td>483.705421</td>\n",
              "      <td>194.482924</td>\n",
              "      <td>49.069231</td>\n",
              "      <td>271.223912</td>\n",
              "      <td>58.43978</td>\n",
              "      <td>391.223516</td>\n",
              "      <td>30.577382</td>\n",
              "      <td>8.375403</td>\n",
              "      <td>2.277464</td>\n",
              "      <td>1.410487</td>\n",
              "      <td>0.410391</td>\n",
              "      <td>51.949773</td>\n",
              "      <td>652.762895</td>\n",
              "      <td>633.282383</td>\n",
              "      <td>2925.101798</td>\n",
              "      <td>0.307794</td>\n",
              "    </tr>\n",
              "    <tr>\n",
              "      <th>min</th>\n",
              "      <td>2018.000000</td>\n",
              "      <td>1.000000</td>\n",
              "      <td>309.0000</td>\n",
              "      <td>1.000000</td>\n",
              "      <td>6.000000</td>\n",
              "      <td>88.00000</td>\n",
              "      <td>399.000000</td>\n",
              "      <td>4655.000000</td>\n",
              "      <td>402.000000</td>\n",
              "      <td>129.000000</td>\n",
              "      <td>1793.000000</td>\n",
              "      <td>382.000000</td>\n",
              "      <td>72.000000</td>\n",
              "      <td>3115.000000</td>\n",
              "      <td>578.00000</td>\n",
              "      <td>6077.000000</td>\n",
              "      <td>1011.000000</td>\n",
              "      <td>1.000000</td>\n",
              "      <td>0.000000</td>\n",
              "      <td>2044.000000</td>\n",
              "      <td>1.000000</td>\n",
              "      <td>52.000000</td>\n",
              "      <td>4.000000</td>\n",
              "      <td>1794.000000</td>\n",
              "      <td>15832.000000</td>\n",
              "      <td>1159.000000</td>\n",
              "      <td>1419.000000</td>\n",
              "      <td>548.000000</td>\n",
              "      <td>1146.000000</td>\n",
              "      <td>116.000000</td>\n",
              "      <td>6401.000000</td>\n",
              "      <td>11221.000000</td>\n",
              "      <td>0.000000</td>\n",
              "      <td>101.000000</td>\n",
              "      <td>4.0000</td>\n",
              "      <td>2137.000000</td>\n",
              "      <td>1585.000000</td>\n",
              "      <td>572.00000</td>\n",
              "      <td>815.000000</td>\n",
              "      <td>132.000000</td>\n",
              "      <td>2041.000000</td>\n",
              "      <td>2471.000000</td>\n",
              "      <td>467.000000</td>\n",
              "      <td>1000.000000</td>\n",
              "      <td>109.00000</td>\n",
              "      <td>4261.000000</td>\n",
              "      <td>334.000000</td>\n",
              "      <td>16.000000</td>\n",
              "      <td>0.000000</td>\n",
              "      <td>0.000000</td>\n",
              "      <td>0.000000</td>\n",
              "      <td>452.000000</td>\n",
              "      <td>9551.000000</td>\n",
              "      <td>3115.000000</td>\n",
              "      <td>61202.000000</td>\n",
              "      <td>2.000000</td>\n",
              "    </tr>\n",
              "    <tr>\n",
              "      <th>25%</th>\n",
              "      <td>2018.000000</td>\n",
              "      <td>3.000000</td>\n",
              "      <td>344.7500</td>\n",
              "      <td>2.000000</td>\n",
              "      <td>10.750000</td>\n",
              "      <td>120.25000</td>\n",
              "      <td>461.500000</td>\n",
              "      <td>4976.750000</td>\n",
              "      <td>427.000000</td>\n",
              "      <td>153.000000</td>\n",
              "      <td>2180.250000</td>\n",
              "      <td>433.750000</td>\n",
              "      <td>94.750000</td>\n",
              "      <td>3625.250000</td>\n",
              "      <td>649.50000</td>\n",
              "      <td>6939.000000</td>\n",
              "      <td>1260.000000</td>\n",
              "      <td>1.000000</td>\n",
              "      <td>1.750000</td>\n",
              "      <td>2166.000000</td>\n",
              "      <td>5.750000</td>\n",
              "      <td>66.500000</td>\n",
              "      <td>12.000000</td>\n",
              "      <td>2204.000000</td>\n",
              "      <td>17839.000000</td>\n",
              "      <td>1274.500000</td>\n",
              "      <td>1544.500000</td>\n",
              "      <td>645.250000</td>\n",
              "      <td>1283.750000</td>\n",
              "      <td>154.500000</td>\n",
              "      <td>6689.750000</td>\n",
              "      <td>11981.250000</td>\n",
              "      <td>0.000000</td>\n",
              "      <td>126.000000</td>\n",
              "      <td>6.0000</td>\n",
              "      <td>2813.500000</td>\n",
              "      <td>1780.750000</td>\n",
              "      <td>663.50000</td>\n",
              "      <td>969.500000</td>\n",
              "      <td>165.000000</td>\n",
              "      <td>2465.000000</td>\n",
              "      <td>2779.500000</td>\n",
              "      <td>490.000000</td>\n",
              "      <td>1257.750000</td>\n",
              "      <td>185.25000</td>\n",
              "      <td>4639.500000</td>\n",
              "      <td>376.000000</td>\n",
              "      <td>23.500000</td>\n",
              "      <td>1.000000</td>\n",
              "      <td>1.000000</td>\n",
              "      <td>0.000000</td>\n",
              "      <td>496.000000</td>\n",
              "      <td>10378.000000</td>\n",
              "      <td>3625.250000</td>\n",
              "      <td>62610.750000</td>\n",
              "      <td>3.000000</td>\n",
              "    </tr>\n",
              "    <tr>\n",
              "      <th>50%</th>\n",
              "      <td>2018.000000</td>\n",
              "      <td>5.500000</td>\n",
              "      <td>376.5000</td>\n",
              "      <td>5.000000</td>\n",
              "      <td>12.500000</td>\n",
              "      <td>140.50000</td>\n",
              "      <td>492.500000</td>\n",
              "      <td>5250.000000</td>\n",
              "      <td>443.000000</td>\n",
              "      <td>157.000000</td>\n",
              "      <td>2321.000000</td>\n",
              "      <td>499.500000</td>\n",
              "      <td>104.500000</td>\n",
              "      <td>3861.000000</td>\n",
              "      <td>717.50000</td>\n",
              "      <td>7300.000000</td>\n",
              "      <td>1349.000000</td>\n",
              "      <td>1.000000</td>\n",
              "      <td>4.000000</td>\n",
              "      <td>2211.000000</td>\n",
              "      <td>8.500000</td>\n",
              "      <td>81.000000</td>\n",
              "      <td>15.000000</td>\n",
              "      <td>2364.000000</td>\n",
              "      <td>18714.000000</td>\n",
              "      <td>1345.000000</td>\n",
              "      <td>1596.500000</td>\n",
              "      <td>687.500000</td>\n",
              "      <td>1367.000000</td>\n",
              "      <td>168.000000</td>\n",
              "      <td>7022.000000</td>\n",
              "      <td>12276.500000</td>\n",
              "      <td>0.000000</td>\n",
              "      <td>134.000000</td>\n",
              "      <td>7.5000</td>\n",
              "      <td>3016.500000</td>\n",
              "      <td>1861.500000</td>\n",
              "      <td>692.50000</td>\n",
              "      <td>1038.500000</td>\n",
              "      <td>173.500000</td>\n",
              "      <td>2624.500000</td>\n",
              "      <td>2909.000000</td>\n",
              "      <td>533.500000</td>\n",
              "      <td>1389.500000</td>\n",
              "      <td>230.50000</td>\n",
              "      <td>4692.000000</td>\n",
              "      <td>401.500000</td>\n",
              "      <td>26.500000</td>\n",
              "      <td>2.000000</td>\n",
              "      <td>2.000000</td>\n",
              "      <td>0.000000</td>\n",
              "      <td>531.500000</td>\n",
              "      <td>10960.000000</td>\n",
              "      <td>3861.000000</td>\n",
              "      <td>65437.000000</td>\n",
              "      <td>3.000000</td>\n",
              "    </tr>\n",
              "    <tr>\n",
              "      <th>75%</th>\n",
              "      <td>2019.000000</td>\n",
              "      <td>8.000000</td>\n",
              "      <td>413.2500</td>\n",
              "      <td>6.000000</td>\n",
              "      <td>14.250000</td>\n",
              "      <td>157.50000</td>\n",
              "      <td>547.750000</td>\n",
              "      <td>5498.000000</td>\n",
              "      <td>461.250000</td>\n",
              "      <td>165.750000</td>\n",
              "      <td>2389.000000</td>\n",
              "      <td>539.250000</td>\n",
              "      <td>111.500000</td>\n",
              "      <td>4277.000000</td>\n",
              "      <td>752.75000</td>\n",
              "      <td>7606.500000</td>\n",
              "      <td>1410.250000</td>\n",
              "      <td>2.000000</td>\n",
              "      <td>5.500000</td>\n",
              "      <td>2363.000000</td>\n",
              "      <td>9.250000</td>\n",
              "      <td>88.000000</td>\n",
              "      <td>16.250000</td>\n",
              "      <td>2628.500000</td>\n",
              "      <td>19589.500000</td>\n",
              "      <td>1361.750000</td>\n",
              "      <td>1801.250000</td>\n",
              "      <td>735.500000</td>\n",
              "      <td>1452.250000</td>\n",
              "      <td>192.250000</td>\n",
              "      <td>7473.000000</td>\n",
              "      <td>12942.500000</td>\n",
              "      <td>0.000000</td>\n",
              "      <td>145.250000</td>\n",
              "      <td>12.0000</td>\n",
              "      <td>3234.500000</td>\n",
              "      <td>1960.750000</td>\n",
              "      <td>741.25000</td>\n",
              "      <td>1078.250000</td>\n",
              "      <td>187.000000</td>\n",
              "      <td>3205.000000</td>\n",
              "      <td>3055.250000</td>\n",
              "      <td>578.750000</td>\n",
              "      <td>1636.750000</td>\n",
              "      <td>259.25000</td>\n",
              "      <td>4918.500000</td>\n",
              "      <td>415.250000</td>\n",
              "      <td>32.250000</td>\n",
              "      <td>4.000000</td>\n",
              "      <td>3.000000</td>\n",
              "      <td>0.000000</td>\n",
              "      <td>563.750000</td>\n",
              "      <td>11224.000000</td>\n",
              "      <td>4277.000000</td>\n",
              "      <td>67112.250000</td>\n",
              "      <td>3.000000</td>\n",
              "    </tr>\n",
              "    <tr>\n",
              "      <th>max</th>\n",
              "      <td>2019.000000</td>\n",
              "      <td>12.000000</td>\n",
              "      <td>508.0000</td>\n",
              "      <td>7.000000</td>\n",
              "      <td>23.000000</td>\n",
              "      <td>194.00000</td>\n",
              "      <td>607.000000</td>\n",
              "      <td>6423.000000</td>\n",
              "      <td>489.000000</td>\n",
              "      <td>195.000000</td>\n",
              "      <td>2590.000000</td>\n",
              "      <td>665.000000</td>\n",
              "      <td>124.000000</td>\n",
              "      <td>5358.000000</td>\n",
              "      <td>977.00000</td>\n",
              "      <td>8034.000000</td>\n",
              "      <td>1625.000000</td>\n",
              "      <td>5.000000</td>\n",
              "      <td>10.000000</td>\n",
              "      <td>2626.000000</td>\n",
              "      <td>19.000000</td>\n",
              "      <td>160.000000</td>\n",
              "      <td>23.000000</td>\n",
              "      <td>2976.000000</td>\n",
              "      <td>21040.000000</td>\n",
              "      <td>1480.000000</td>\n",
              "      <td>2757.000000</td>\n",
              "      <td>783.000000</td>\n",
              "      <td>1889.000000</td>\n",
              "      <td>230.000000</td>\n",
              "      <td>8549.000000</td>\n",
              "      <td>15395.000000</td>\n",
              "      <td>2.000000</td>\n",
              "      <td>159.000000</td>\n",
              "      <td>17.0000</td>\n",
              "      <td>3627.000000</td>\n",
              "      <td>2090.000000</td>\n",
              "      <td>798.00000</td>\n",
              "      <td>1141.000000</td>\n",
              "      <td>202.000000</td>\n",
              "      <td>3695.000000</td>\n",
              "      <td>3169.000000</td>\n",
              "      <td>618.000000</td>\n",
              "      <td>2028.000000</td>\n",
              "      <td>350.00000</td>\n",
              "      <td>5902.000000</td>\n",
              "      <td>453.000000</td>\n",
              "      <td>45.000000</td>\n",
              "      <td>8.000000</td>\n",
              "      <td>5.000000</td>\n",
              "      <td>1.000000</td>\n",
              "      <td>654.000000</td>\n",
              "      <td>11892.000000</td>\n",
              "      <td>5358.000000</td>\n",
              "      <td>72100.000000</td>\n",
              "      <td>3.000000</td>\n",
              "    </tr>\n",
              "  </tbody>\n",
              "</table>\n",
              "</div>"
            ],
            "text/plain": [
              "              vano        mes  ...  registro_ocorrencias       fase\n",
              "count    20.000000  20.000000  ...             20.000000  20.000000\n",
              "mean   2018.400000   5.700000  ...          65279.000000   2.900000\n",
              "std       0.502625   3.278318  ...           2925.101798   0.307794\n",
              "min    2018.000000   1.000000  ...          61202.000000   2.000000\n",
              "25%    2018.000000   3.000000  ...          62610.750000   3.000000\n",
              "50%    2018.000000   5.500000  ...          65437.000000   3.000000\n",
              "75%    2019.000000   8.000000  ...          67112.250000   3.000000\n",
              "max    2019.000000  12.000000  ...          72100.000000   3.000000\n",
              "\n",
              "[8 rows x 56 columns]"
            ]
          },
          "metadata": {
            "tags": []
          },
          "execution_count": 13
        }
      ]
    },
    {
      "cell_type": "code",
      "metadata": {
        "id": "gdnSvABDhqjb",
        "colab_type": "code",
        "outputId": "7d860836-c726-45d6-a8fe-6df01a13ae08",
        "colab": {
          "base_uri": "https://localhost:8080/",
          "height": 34
        }
      },
      "source": [
        "# Média da coluna roubo_veiculo\n",
        "\n",
        "df_rj.loc[324:343].roubo_veiculo.mean()"
      ],
      "execution_count": 14,
      "outputs": [
        {
          "output_type": "execute_result",
          "data": {
            "text/plain": [
              "4005.45"
            ]
          },
          "metadata": {
            "tags": []
          },
          "execution_count": 14
        }
      ]
    },
    {
      "cell_type": "code",
      "metadata": {
        "id": "wKD74OQ7h1No",
        "colab_type": "code",
        "outputId": "89573b98-95b5-4cbd-ffcf-811f2b05b43f",
        "colab": {
          "base_uri": "https://localhost:8080/",
          "height": 34
        }
      },
      "source": [
        "# Média da coluna furto_veiculos\n",
        "\n",
        "df_rj.loc[324:343].furto_veiculos.mean()"
      ],
      "execution_count": 15,
      "outputs": [
        {
          "output_type": "execute_result",
          "data": {
            "text/plain": [
              "1330.3"
            ]
          },
          "metadata": {
            "tags": []
          },
          "execution_count": 15
        }
      ]
    },
    {
      "cell_type": "code",
      "metadata": {
        "id": "8T0vAenQiACP",
        "colab_type": "code",
        "outputId": "9e7df8a0-27b9-46ba-e345-a7e30f94aa3c",
        "colab": {
          "base_uri": "https://localhost:8080/",
          "height": 34
        }
      },
      "source": [
        "# Média da coluna recuperacao_veiculos\n",
        "\n",
        "df_rj.loc[324:343].recuperacao_veiculos.mean()"
      ],
      "execution_count": 16,
      "outputs": [
        {
          "output_type": "execute_result",
          "data": {
            "text/plain": [
              "2791.75"
            ]
          },
          "metadata": {
            "tags": []
          },
          "execution_count": 16
        }
      ]
    },
    {
      "cell_type": "code",
      "metadata": {
        "id": "S-bVAmPymMhx",
        "colab_type": "code",
        "outputId": "417ee77e-877b-4b19-ba51-b41cba95d2bd",
        "colab": {
          "base_uri": "https://localhost:8080/",
          "height": 34
        }
      },
      "source": [
        "# Quantidades de Carros roubados\n",
        "\n",
        "df_rj.loc[324:343].roubo_veiculo.sum()"
      ],
      "execution_count": 17,
      "outputs": [
        {
          "output_type": "execute_result",
          "data": {
            "text/plain": [
              "80109"
            ]
          },
          "metadata": {
            "tags": []
          },
          "execution_count": 17
        }
      ]
    },
    {
      "cell_type": "code",
      "metadata": {
        "id": "48bMHLGTmaxo",
        "colab_type": "code",
        "outputId": "f2b77704-176f-4f73-f23e-e0484ec74625",
        "colab": {
          "base_uri": "https://localhost:8080/",
          "height": 34
        }
      },
      "source": [
        "# Quantidade de Carros Furtados\n",
        "\n",
        "df_rj.loc[324:343].furto_veiculos.sum()"
      ],
      "execution_count": 18,
      "outputs": [
        {
          "output_type": "execute_result",
          "data": {
            "text/plain": [
              "26606"
            ]
          },
          "metadata": {
            "tags": []
          },
          "execution_count": 18
        }
      ]
    },
    {
      "cell_type": "code",
      "metadata": {
        "id": "YmoZLbl9mpXI",
        "colab_type": "code",
        "outputId": "c05db396-0a5d-4002-8e7e-bc4a5d2d1d35",
        "colab": {
          "base_uri": "https://localhost:8080/",
          "height": 34
        }
      },
      "source": [
        "# Quantidade de veículos Recuperados 1418439\n",
        "\n",
        "df_rj.loc[324:343].recuperacao_veiculos.sum()\n"
      ],
      "execution_count": 19,
      "outputs": [
        {
          "output_type": "execute_result",
          "data": {
            "text/plain": [
              "55835"
            ]
          },
          "metadata": {
            "tags": []
          },
          "execution_count": 19
        }
      ]
    },
    {
      "cell_type": "code",
      "metadata": {
        "id": "OSP4r-Fjins_",
        "colab_type": "code",
        "colab": {}
      },
      "source": [
        "# Calculando qual a porcentagem de carros recuperados em relação aos carros roubados + carros furtados\n",
        "\n",
        "\n",
        "df_rj.loc[324:343].roubo_veiculo.sum() + df_rj.loc[324:343].furto_veiculos.sum()\n",
        "percentage = (df_rj.loc[324:343].recuperacao_veiculos.sum() / rf)\n"
      ],
      "execution_count": 0,
      "outputs": []
    },
    {
      "cell_type": "markdown",
      "metadata": {
        "id": "7WK0NBQZASKC",
        "colab_type": "text"
      },
      "source": [
        "## Visualização de Dados\n",
        "\n",
        "* A visualização de dados é uma expressão contemporânea da comunicação visual que consiste na representação visual de dados. Na VD, há exibição gráfica de informações abstratas com os propósitos de atribuição de sentido e comunicação.\n",
        "\n",
        "\n",
        "Plote e comente os seguintes gráficos:\n",
        "\n",
        "* Histograma de `hom_doloso`\n",
        "* Gráfico de linhas para a variável `roubo_em_coletivo`\n"
      ]
    },
    {
      "cell_type": "markdown",
      "metadata": {
        "id": "uGXnPTHNADd1",
        "colab_type": "text"
      },
      "source": [
        "# Visualização dos crimes de Homicídio doloso\n",
        "\n",
        "* O homicídio doloso é quando uma pessoa mata outra intencionalmente. Este tipo de homicídio pode ser classificado como de dolo direto, ou seja, quando o indivíduo realmente deseja matar outra pessoa; ou dolo indireto, quando o indivíduo não tem o propósito de matar, mas é o responsável por organizar algum evento que causa a morte de alguém por consequência.\n",
        "\n",
        "* A taxa de homicídios dolosos – quando há a intenção de matar – no Rio de Janeiro, entre janeiro e outubro de 2019, é a menor desde 2007 no estado, concluiu o Instituto de Segurança Pública (ISP-RJ).\n",
        "\n",
        "* O instituto compilou informações sobre períodos de 10 meses dos últimos 12 anos. Além dos homicídios dolosos, nenhum outro indicador foi divulgado até o momento."
      ]
    },
    {
      "cell_type": "code",
      "metadata": {
        "id": "RQX9k3E1qSN-",
        "colab_type": "code",
        "outputId": "17115268-0fe8-43c4-848b-0970e66f05a4",
        "colab": {
          "base_uri": "https://localhost:8080/",
          "height": 366
        }
      },
      "source": [
        "# Utilizando gráficos de barras para visualização do indicador de crimes do tipo \"Homicídio_Doloso\"\n",
        "\n",
        "df_rj.loc[324:343].hom_doloso.plot(kind =\"bar\", edgecolor=\"black\", figsize=(15,5));\n",
        "plt.xlabel('Meses\\n\\n 324=JAN 2018 a 343= AGO 2019');\n",
        "plt.ylabel(\"Qtds x Ocorrências\");\n",
        "\n"
      ],
      "execution_count": 38,
      "outputs": [
        {
          "output_type": "display_data",
          "data": {
            "image/png": "[encoded data removed]",
            "text/plain": [
              "<Figure size 1080x360 with 1 Axes>"
            ]
          },
          "metadata": {
            "tags": [],
            "needs_background": "light"
          }
        }
      ]
    },
    {
      "cell_type": "markdown",
      "metadata": {
        "id": "BPxl75UoasgL",
        "colab_type": "text"
      },
      "source": [
        "# Crimes de Estupro no Rio de Janeiro\n",
        "\n",
        "* O número de estupros no Rio de janeiro a setembro de 2019 foi de 4074, uma média de 15 por dia. Os dados são do Instituto de Segurança Pública do Rio (ISP), divulgados na terça-feira (22).\n",
        "\n",
        "* Na comparação com 2016, o número passou de 3498 para 4074, um aumento de 16,4%.\n",
        "\n",
        "\n",
        "<center><b>2016: 3498<br>\n",
        "2017: 3591<br>\n",
        "2018: 3968<br>\n",
        "2019: 4074<br>"
      ]
    },
    {
      "cell_type": "code",
      "metadata": {
        "id": "L185SOjppsh7",
        "colab_type": "code",
        "outputId": "0567ade5-fa6f-4293-af1d-0b8d95260834",
        "colab": {
          "base_uri": "https://localhost:8080/",
          "height": 366
        }
      },
      "source": [
        "# Utilizando o gráfico de barras para visualização do indicador de crimes de \"Estupro\"\n",
        "\n",
        "df_rj.loc[324:343].estupro.plot(kind=\"bar\", edgecolor=\"black\", figsize=(15,5));\n",
        "plt.xlabel('Meses\\n\\n 324=JAN 2018 a 343= AGO 2019');"
      ],
      "execution_count": 39,
      "outputs": [
        {
          "output_type": "display_data",
          "data": {
            "image/png": "[encoded data removed]",
            "text/plain": [
              "<Figure size 1080x360 with 1 Axes>"
            ]
          },
          "metadata": {
            "tags": [],
            "needs_background": "light"
          }
        }
      ]
    },
    {
      "cell_type": "markdown",
      "metadata": {
        "id": "tyqpgVg9brf3",
        "colab_type": "text"
      },
      "source": [
        "# Apreensão de drogas"
      ]
    },
    {
      "cell_type": "markdown",
      "metadata": {
        "id": "QtnJm-90jfZV",
        "colab_type": "text"
      },
      "source": [
        "* O índice de apreensão de drogas no Rio de Janeiro teve um crecimento significativo em relação ao ano de 2018 a 2019, cenário este de uma certa forma positivo por parte do trabalho da força policial, porem uma triste realidade para a população, sendo que o crecimento no tráfico aumenta relativamente a violência.\n",
        "\n",
        "* Desde o início do ano, a Polícia Rodoviária Federal (PRF) apreendeu mais de seis toneladas de drogas nas rodovias federais do Rio de Janeiro. Em comparação com o mesmo período de 2018, houve um aumento de 592%, informou a PRF. No ano passado, foram apreendidos 897 quilos de drogas, sendo 744 quilos de maconha, 148 quilos de cocaína e cinco quilos de haxixe. Foram presas 42 pessoas por tráfico de entorpecentes este ano."
      ]
    },
    {
      "cell_type": "code",
      "metadata": {
        "id": "TkTuDV5gb_zS",
        "colab_type": "code",
        "outputId": "2aff4328-5a1e-4e2d-bb79-40b91776f1f2",
        "colab": {
          "base_uri": "https://localhost:8080/",
          "height": 366
        }
      },
      "source": [
        "# Utilizando o gráfico de barras para visualização do indicador de crimes de \"Apreensão de drogas\"\n",
        "\n",
        "df_rj.loc[324:343].apreensao_drogas.plot(kind=\"bar\", edgecolor=\"black\", figsize=(15,5));\n",
        "plt.xlabel('Meses\\n\\n 324=JAN 2018 a 343= AGO 2019');"
      ],
      "execution_count": 40,
      "outputs": [
        {
          "output_type": "display_data",
          "data": {
            "image/png": "[encoded data removed]",
            "text/plain": [
              "<Figure size 1080x360 with 1 Axes>"
            ]
          },
          "metadata": {
            "tags": [],
            "needs_background": "light"
          }
        }
      ]
    },
    {
      "cell_type": "markdown",
      "metadata": {
        "id": "pQzzqYDjftRg",
        "colab_type": "text"
      },
      "source": [
        "# Tráfico de Drogas"
      ]
    },
    {
      "cell_type": "markdown",
      "metadata": {
        "id": "EPvFppPe0hsY",
        "colab_type": "text"
      },
      "source": [
        "* No período do ano de 2018-2019 a força policial investiram pesado no ataque ao tyráfico de Drogas no estado do Rio de Janeiro.\n",
        "\n",
        "* Segundo o governador do estado, Wilson Witzel, foi a maior apreensão de armas e drogas da história do estado. “O recado está dado. Não enfrente a polícia. Se enfrentar a polícia só há dois caminhos: será preso ou morto. Nós não teremos leniência. Não teremos piedade com quem não tem respeito com o ser humano alheio. Não tem respeito com a sociedade e com nossos policiais”, disse o governador em coletiva à imprensa para divulgar os dados da ação."
      ]
    },
    {
      "cell_type": "code",
      "metadata": {
        "id": "0EAN_4hpgSdv",
        "colab_type": "code",
        "outputId": "b85fd984-f9b4-461a-f8d3-257e152c1469",
        "colab": {
          "base_uri": "https://localhost:8080/",
          "height": 366
        }
      },
      "source": [
        "df_rj.loc[324:343].trafico_drogas.plot(kind= \"bar\", edgecolor = \"black\", figsize=(15,5));\n",
        "plt.xlabel('Meses\\n\\n 324=JAN 2018 a 343= AGO 2019');"
      ],
      "execution_count": 41,
      "outputs": [
        {
          "output_type": "display_data",
          "data": {
            "image/png": "[encoded data removed]",
            "text/plain": [
              "<Figure size 1080x360 with 1 Axes>"
            ]
          },
          "metadata": {
            "tags": [],
            "needs_background": "light"
          }
        }
      ]
    },
    {
      "cell_type": "markdown",
      "metadata": {
        "id": "lIbOqe4zc2LO",
        "colab_type": "text"
      },
      "source": [
        "# Roubo de Carga"
      ]
    },
    {
      "cell_type": "markdown",
      "metadata": {
        "id": "4fbWofDa1DX7",
        "colab_type": "text"
      },
      "source": [
        "* Um levantamento da Associação Nacional de Transporte de Cargas e Logística mostra que o número de roubos de carga no Rio de Janeiro diminuiu, mas, ainda assim, o estado lidera esse tipo de crime no país.\n",
        "\n",
        "* Comparando os índices do Brasil, o Rio de Janeiro é responsável por 40% dos roubos de carga no país.\n",
        "\n",
        "* Ao longo de 2018, foram registradas 22.183 ocorrências desse tipo, sendo três mil roubos de carga a menos que em 2017.\n",
        "\n",
        "* Agora, em 2019, os números também caíram: de janeiro a maio foram 3.400 casos, contra 4.281 em 2018.\n",
        "\n",
        "* Apesar dos índices terem diminuído em todo o estado, só na região da Baixada Fluminense esse tipo de crime aumentou 28%."
      ]
    },
    {
      "cell_type": "code",
      "metadata": {
        "id": "p3zmpJlQvWzP",
        "colab_type": "code",
        "outputId": "d6564e69-3d2a-4a85-c51b-30c2ea071302",
        "colab": {
          "base_uri": "https://localhost:8080/",
          "height": 366
        }
      },
      "source": [
        "# Utilizando o gráfico de barras para visualização do indicador de crimes de \"Roubo de Carga\"\n",
        "\n",
        "df_rj.loc[324:343].roubo_carga.plot(kind = \"bar\", edgecolor=\"black\", figsize=(15,5));\n",
        "plt.xlabel('Meses\\n\\n 324=JAN 2018 a 343= AGO 2019');\n",
        "plt.ylabel(\"Ocorrências\");"
      ],
      "execution_count": 51,
      "outputs": [
        {
          "output_type": "display_data",
          "data": {
            "image/png": "[encoded data removed]",
            "text/plain": [
              "<Figure size 1080x360 with 1 Axes>"
            ]
          },
          "metadata": {
            "tags": [],
            "needs_background": "light"
          }
        }
      ]
    },
    {
      "cell_type": "markdown",
      "metadata": {
        "id": "bNc4c8SriKKN",
        "colab_type": "text"
      },
      "source": [
        "# Roubo a Bancos"
      ]
    },
    {
      "cell_type": "markdown",
      "metadata": {
        "id": "IV1sPokw1kDM",
        "colab_type": "text"
      },
      "source": [
        "* Roubo a agências bancárias no Rio de Janeiro estão de uma certa forma estabilizadas com indices baixos, pelo menos são as informações retiradas dos registros policiais registrados pelas agências; visão esta que esta sendo apontada no gráfico abaixo:"
      ]
    },
    {
      "cell_type": "code",
      "metadata": {
        "id": "6xGhq185iMje",
        "colab_type": "code",
        "outputId": "bb4ce9ce-4444-461c-feb6-0bd0cd5454f5",
        "colab": {
          "base_uri": "https://localhost:8080/",
          "height": 366
        }
      },
      "source": [
        "# Utilizando o gráfico de barras para visualização do indicador de crimes de \"Roubo a Bancos\"\n",
        "\n",
        "df_rj.loc[324:343].roubo_banco.plot(kind=\"bar\", edgecolor= \"black\", figsize=(15,5));\n",
        "plt.xlabel('Meses\\n\\n 324=JAN 2018 a 343= AGO 2019');\n",
        "plt.ylabel(\"Ocorrências\");\n"
      ],
      "execution_count": 52,
      "outputs": [
        {
          "output_type": "display_data",
          "data": {
            "image/png": "[encoded data removed]",
            "text/plain": [
              "<Figure size 1080x360 with 1 Axes>"
            ]
          },
          "metadata": {
            "tags": [],
            "needs_background": "light"
          }
        }
      ]
    },
    {
      "cell_type": "markdown",
      "metadata": {
        "id": "OPOU7f7QiuaV",
        "colab_type": "text"
      },
      "source": [
        "# Roubo após Saque no Banco"
      ]
    },
    {
      "cell_type": "markdown",
      "metadata": {
        "id": "BJ993Uec2GPg",
        "colab_type": "text"
      },
      "source": [
        "* Triste realidade é o número de roubo aos cidadãos, a famosa saidinha de banco gera um aumento considerável no indice de violência e medo na população do Rio de Janeiro, podemos observar um crescimento no período analisado."
      ]
    },
    {
      "cell_type": "code",
      "metadata": {
        "id": "LnU7p8KKi5D5",
        "colab_type": "code",
        "outputId": "07dbb691-faa8-4ee7-9fb7-33923039eed5",
        "colab": {
          "base_uri": "https://localhost:8080/",
          "height": 366
        }
      },
      "source": [
        "# Utilizando o gráfico de barras para visualização do indicador de crimes de \"Roubo após Saida do Banco\"\n",
        "\n",
        "df_rj.loc[324:343].roubo_apos_saque.plot(kind = \"bar\", edgecolor = \"black\", figsize = (15,5));\n",
        "plt.xlabel('Meses\\n\\n 324=JAN 2018 a 343= AGO 2019');\n",
        "plt.ylabel(\"Ocorrências\");\n"
      ],
      "execution_count": 54,
      "outputs": [
        {
          "output_type": "display_data",
          "data": {
            "image/png": "[encoded data removed]",
            "text/plain": [
              "<Figure size 1080x360 with 1 Axes>"
            ]
          },
          "metadata": {
            "tags": [],
            "needs_background": "light"
          }
        }
      ]
    },
    {
      "cell_type": "markdown",
      "metadata": {
        "id": "qp3alID5ki0G",
        "colab_type": "text"
      },
      "source": [
        "# Ameaças"
      ]
    },
    {
      "cell_type": "markdown",
      "metadata": {
        "id": "lGnlW3Ks25S7",
        "colab_type": "text"
      },
      "source": [
        "* No Código Penal Brasileiro (DECRETO-LEI N° 2.848, DE 7 DE DEZEMBRO DE 1940[1]) o crime de 'Ameaça' vem descrito no art. 147, sendo um dos crimes descritos no capítulo que trata dos crimes contra a liberdade individual.\n",
        "\n",
        "* Consiste em ameaçar alguém, por palavra, escrito ou gesto, ou qualquer outro meio simbólico, de causar-lhe mal injusto e grave. A pena cominada ao crime é de detenção de um a seis meses, ou multa.\n",
        "\n",
        "* Trata-se de um crime de ação penal pública condicionada, ou seja, somente se procede mediante representação.\n",
        "\n",
        "* Infelismente os índices deste crimes tem um crescimento absurdo a cada mês que passa, infelismente as pessoas ainda estão sendo coagidas a não efetuar a denuncia de seus agressores verbais ou físicas puramente por conta do MEDO."
      ]
    },
    {
      "cell_type": "code",
      "metadata": {
        "id": "XUbXA2Pkkk1k",
        "colab_type": "code",
        "outputId": "139a2363-578f-4c45-c6ae-66bce730d349",
        "colab": {
          "base_uri": "https://localhost:8080/",
          "height": 366
        }
      },
      "source": [
        "# Utilizando o gráfico de barras para visualização do indicador de crimes de \"Ameaças\"\n",
        "\n",
        "df_rj.loc[324:343].ameaca.plot(kind =\"bar\", edgecolor=\"black\", figsize =(15,5));\n",
        "plt.xlabel('Meses\\n\\n 324=JAN 2018 a 343= AGO 2019');\n",
        "plt.ylabel(\"Ocorrências\");"
      ],
      "execution_count": 56,
      "outputs": [
        {
          "output_type": "display_data",
          "data": {
            "image/png": "[encoded data removed]",
            "text/plain": [
              "<Figure size 1080x360 with 1 Axes>"
            ]
          },
          "metadata": {
            "tags": [],
            "needs_background": "light"
          }
        }
      ]
    },
    {
      "cell_type": "markdown",
      "metadata": {
        "id": "VgMZeO35dhXd",
        "colab_type": "text"
      },
      "source": [
        "# Roubo de Celulares"
      ]
    },
    {
      "cell_type": "markdown",
      "metadata": {
        "id": "qzrFdTah4aPt",
        "colab_type": "text"
      },
      "source": [
        "* Roubo de celulares bate recorde no Rio de Janeiro em 2018-2019. O roubo de celulares bateu recorde no Rio de Janeiro. Foram contabilizados 45.198 ocorrências, um crescimento de 8,9% em comparação com 2017, a maior desde que o Instituto de Segurança Pública (ISP) começou a registrar esses dados"
      ]
    },
    {
      "cell_type": "code",
      "metadata": {
        "id": "Sbqx77hpd7Fu",
        "colab_type": "code",
        "outputId": "17b51bc5-823e-46b2-9eea-1be70cc8123f",
        "colab": {
          "base_uri": "https://localhost:8080/",
          "height": 366
        }
      },
      "source": [
        "# Utilizando o gráfico de barras para visualização do indicador de crimes de \"Roubo de Celulares\"\n",
        "\n",
        "df_rj.loc[324:343].roubo_celular.plot(kind=\"bar\", edgecolor= \"black\", figsize=(15,5));\n",
        "plt.xlabel('Meses\\n\\n 324=JAN 2018 a 343= AGO 2019');\n",
        "plt.ylabel(\"Ocorrências\");\n"
      ],
      "execution_count": 66,
      "outputs": [
        {
          "output_type": "display_data",
          "data": {
            "image/png": "[encoded data removed]",
            "text/plain": [
              "<Figure size 1080x360 with 1 Axes>"
            ]
          },
          "metadata": {
            "tags": [],
            "needs_background": "light"
          }
        }
      ]
    },
    {
      "cell_type": "code",
      "metadata": {
        "id": "nkPbJcB95Bpg",
        "colab_type": "code",
        "colab": {
          "base_uri": "https://localhost:8080/",
          "height": 34
        },
        "outputId": "87bec9dd-42cc-4cff-db48-04dc08f78783"
      },
      "source": [
        "# Total de aparelhos celulares roubados dentro de 2018 a Agosto de 2019\n",
        "df_rj.loc[324:343].roubo_celular.sum()\n"
      ],
      "execution_count": 65,
      "outputs": [
        {
          "output_type": "execute_result",
          "data": {
            "text/plain": [
              "45198.0"
            ]
          },
          "metadata": {
            "tags": []
          },
          "execution_count": 65
        }
      ]
    },
    {
      "cell_type": "markdown",
      "metadata": {
        "id": "eL3Q6UzRds8G",
        "colab_type": "text"
      },
      "source": [
        "# Registro de Ocorrências"
      ]
    },
    {
      "cell_type": "markdown",
      "metadata": {
        "id": "j972j5N335TF",
        "colab_type": "text"
      },
      "source": [
        "* Indices de todos os registros gerados na cidade do Rio de Janeiro no período de 2018-2019."
      ]
    },
    {
      "cell_type": "code",
      "metadata": {
        "id": "jT1rcwBTmedP",
        "colab_type": "code",
        "outputId": "c87df7bd-ee9d-445c-ef36-f63c4c94021b",
        "colab": {
          "base_uri": "https://localhost:8080/",
          "height": 366
        }
      },
      "source": [
        "# Utilizando o gráfico de barras para visualização do indicador de crimes de \"Roubo de Carga\"\n",
        "\n",
        "df_rj.loc[324:343].registro_ocorrencias.plot(kind = \"bar\", edgecolor=\"black\", figsize=(15,5));\n",
        "plt.xlabel('Meses\\n\\n 324=JAN 2018 a 343= AGO 2019');\n",
        "plt.ylabel(\"Registros\");"
      ],
      "execution_count": 61,
      "outputs": [
        {
          "output_type": "display_data",
          "data": {
            "image/png": "[encoded data removed]",
            "text/plain": [
              "<Figure size 1080x360 with 1 Axes>"
            ]
          },
          "metadata": {
            "tags": [],
            "needs_background": "light"
          }
        }
      ]
    },
    {
      "cell_type": "markdown",
      "metadata": {
        "id": "zECFnDqaeXWk",
        "colab_type": "text"
      },
      "source": [
        "# Criando uma Matriz de correlação entre algumas variáveis\n",
        "\n",
        "* Correlação significa que existe uma relação entre duas coisas. No nosso contexto, estamos buscando relação ou semelhança entre duas variáveis.\n",
        "\n",
        "* Essa relação pode ser medida, e é função do coeficiente de correlação estabelecer qual a intensidade dela. Para identificar as correlações existentes entre as variáveis de interesse, vou:\n",
        "\n",
        "* Criando uma matriz de correlação abaixo\n",
        "* Gerarando um *heatmap* a partir dessa matriz, usando a biblioteca `seaborn`"
      ]
    },
    {
      "cell_type": "code",
      "metadata": {
        "id": "p7HkP5RmegYf",
        "colab_type": "code",
        "outputId": "0069c66a-30c7-4962-cecf-20769799788c",
        "colab": {
          "base_uri": "https://localhost:8080/",
          "height": 173
        }
      },
      "source": [
        "# criar uma matriz de correlação\n",
        "corr = df_rj.loc[324:343][['roubo_banco', 'roubo_apos_saque',\"ameaca\",\"registro_ocorrencias\"]].corr()\n",
        "\n",
        "display(corr)\n",
        "\n",
        "# mostrar a matriz de correlação"
      ],
      "execution_count": 32,
      "outputs": [
        {
          "output_type": "display_data",
          "data": {
            "text/html": [
              "<div>\n",
              "<style scoped>\n",
              "    .dataframe tbody tr th:only-of-type {\n",
              "        vertical-align: middle;\n",
              "    }\n",
              "\n",
              "    .dataframe tbody tr th {\n",
              "        vertical-align: top;\n",
              "    }\n",
              "\n",
              "    .dataframe thead th {\n",
              "        text-align: right;\n",
              "    }\n",
              "</style>\n",
              "<table border=\"1\" class=\"dataframe\">\n",
              "  <thead>\n",
              "    <tr style=\"text-align: right;\">\n",
              "      <th></th>\n",
              "      <th>roubo_banco</th>\n",
              "      <th>roubo_apos_saque</th>\n",
              "      <th>ameaca</th>\n",
              "      <th>registro_ocorrencias</th>\n",
              "    </tr>\n",
              "  </thead>\n",
              "  <tbody>\n",
              "    <tr>\n",
              "      <th>roubo_banco</th>\n",
              "      <td>1.000000</td>\n",
              "      <td>-0.258285</td>\n",
              "      <td>0.090869</td>\n",
              "      <td>0.089999</td>\n",
              "    </tr>\n",
              "    <tr>\n",
              "      <th>roubo_apos_saque</th>\n",
              "      <td>-0.258285</td>\n",
              "      <td>1.000000</td>\n",
              "      <td>0.064988</td>\n",
              "      <td>0.000868</td>\n",
              "    </tr>\n",
              "    <tr>\n",
              "      <th>ameaca</th>\n",
              "      <td>0.090869</td>\n",
              "      <td>0.064988</td>\n",
              "      <td>1.000000</td>\n",
              "      <td>0.809960</td>\n",
              "    </tr>\n",
              "    <tr>\n",
              "      <th>registro_ocorrencias</th>\n",
              "      <td>0.089999</td>\n",
              "      <td>0.000868</td>\n",
              "      <td>0.809960</td>\n",
              "      <td>1.000000</td>\n",
              "    </tr>\n",
              "  </tbody>\n",
              "</table>\n",
              "</div>"
            ],
            "text/plain": [
              "                      roubo_banco  ...  registro_ocorrencias\n",
              "roubo_banco              1.000000  ...              0.089999\n",
              "roubo_apos_saque        -0.258285  ...              0.000868\n",
              "ameaca                   0.090869  ...              0.809960\n",
              "registro_ocorrencias     0.089999  ...              1.000000\n",
              "\n",
              "[4 rows x 4 columns]"
            ]
          },
          "metadata": {
            "tags": []
          }
        }
      ]
    },
    {
      "cell_type": "code",
      "metadata": {
        "id": "b6gBnTJ6fMQ_",
        "colab_type": "code",
        "outputId": "89afef0d-a738-40a4-97d4-4ccd242d6fb6",
        "colab": {
          "base_uri": "https://localhost:8080/",
          "height": 360
        }
      },
      "source": [
        "# plotar um heatmap a partir das correlações\n",
        "sns.heatmap(corr, cmap='RdBu', fmt='.2f', square=True, linecolor='white', annot=True);"
      ],
      "execution_count": 33,
      "outputs": [
        {
          "output_type": "display_data",
          "data": {
            "image/png": "[encoded data removed]",
            "text/plain": [
              "<Figure size 432x288 with 2 Axes>"
            ]
          },
          "metadata": {
            "tags": [],
            "needs_background": "light"
          }
        }
      ]
    },
    {
      "cell_type": "markdown",
      "metadata": {
        "id": "LCsiXvM3BcsO",
        "colab_type": "text"
      },
      "source": [
        "## Conclusão\n",
        "\n",
        "* <b>Após conclusão desta analise exploratória, dos indicadores apontados acima, concluo que infelizmente a violência no estado do Rio de Janeiro se tronou uma doença crônica, e a cidade maravilhosa esta a cada dia caindo em um buraco onde a luz esta sumindo pouco a pouco, e dependemos de forças governamentais precisas a fim de combater o crime generalizado no estado, mas estamos longe deste cenário acontecer, um lugar onde quem manda é a corrupção.<b>"
      ]
    }
  ]
}