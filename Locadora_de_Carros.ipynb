{
  "nbformat": 4,
  "nbformat_minor": 0,
  "metadata": {
    "colab": {
      "name": "Locadora de Carros.ipynb",
      "provenance": [],
      "collapsed_sections": [],
      "authorship_tag": "ABX9TyOS716r+Z8uiPSu/TRJvT27",
      "include_colab_link": true
    },
    "kernelspec": {
      "name": "python3",
      "display_name": "Python 3"
    }
  },
  "cells": [
    {
      "cell_type": "markdown",
      "metadata": {
        "id": "view-in-github",
        "colab_type": "text"
      },
      "source": [
        "<a href=\"https://colab.research.google.com/github/eliasfeitoza/Portifolio-Data-Science/blob/master/Locadora_de_Carros.ipynb\" target=\"_parent\"><img src=\"https://colab.research.google.com/assets/colab-badge.svg\" alt=\"Open In Colab\"/></a>"
      ]
    },
    {
      "cell_type": "markdown",
      "metadata": {
        "id": "vVAizQ6bhUL3"
      },
      "source": [
        "<h1><b><center>Locadora de Veículos</h1></b></center>\r\n",
        "\r\n",
        "<center><img src=\"https://bit.ly/3aKx772\"></center>\r\n",
        "\r\n",
        "\r\n"
      ]
    },
    {
      "cell_type": "markdown",
      "metadata": {
        "id": "O1AKqCnLjQUh"
      },
      "source": [
        "# Aluguel de Veículos\r\n",
        "\r\n",
        "* Aluguel ou locação de veículos é uma modalidade de negócio que consiste em oferecer um veículo (carro de passeio, furgões, motocicletas ou caminhões) para alugar por um determinado período de tempo, normalmente curtos entre algumas horas e algumas semanas.Também são muito utilizadas as expressões em inglês rent a car, car rental e car hire.\r\n",
        "\r\n",
        "* As agências de locação situam-se geralmente nas proximidades de aeroportos, estações de trem ou ônibus (rodoviárias) e em pontos estratégicos das cidades importantes."
      ]
    },
    {
      "cell_type": "markdown",
      "metadata": {
        "id": "SC_F1xYUiyKv"
      },
      "source": [
        "# Modelos de negócio\r\n",
        "\r\n",
        "<center><img src=\"https://bit.ly/38KnHpt\" height=\"150\"> \r\n",
        "\r\n",
        "* As empresas de aluguel de carros operam comprando ou financiando um grande número de frota de veículos e alugando estes para seus clientes por uma taxa. As frotas podem ser estruturadas de várias maneiras - podem ser próprias (chamados de 'veículos de risco' porque a locadora assume o risco de por quanto o veículo será vendido depois que o veículo for removido de serviço), podem ser obtidos por leasing, ou mantidos sob um programa de garantia de recompra ajustado diretamente com o fabricante do veículo ou concessionário deste (estes são chamados de 'veículos de recompra' porque o fabricante define exatamente o preço de compra e recompra afinal de um período definido)"
      ]
    },
    {
      "cell_type": "markdown",
      "metadata": {
        "id": "lbtd5vs9hUn3"
      },
      "source": [
        "# Objetivo do Algoritmo\r\n",
        "\r\n",
        "<center><img src=\"https://bit.ly/2L5MQ5G\" height=\"150px\"></center>\r\n",
        "\r\n",
        "* Escrever um programa que pergunte a quantidade de Km percorridos por um carro alugado e a quantidade de dias pelos quais ele foi alugado. Calcule o preço a pagar, sabendo que o carro custa <b>60 Reais</b> por dia e <b>0,15 Centavos</b> por Km rodado."
      ]
    },
    {
      "cell_type": "code",
      "metadata": {
        "colab": {
          "base_uri": "https://localhost:8080/"
        },
        "id": "BCBqRRB0g0_m",
        "cellView": "form",
        "outputId": "f202bec0-a77b-4597-f5fe-18d7e08d5a3b"
      },
      "source": [
        "#@title Locadora de Carros\n",
        "nome = input(\"Qual o seu nome: \")\n",
        "km = float(input(\"Quantos Kilometros serão rodados: \"))\n",
        "d = int(input(\"Quantos dias de locação: \"))\n",
        "locdia = 60\n",
        "kmrodado = 0.15\n",
        "print(\"\")\n",
        "print(\"-\" *13 ,\"Locadora de Carros\",\"-\" * 13)\n",
        "print(\"\")\n",
        "print(\"Seja Bem Vindo\",nome)\n",
        "print(\"\\n\")\n",
        "print(\"O Valor Total da sua locação é: R$ \",(locdia * d)+(kmrodado * km) )\n",
        "print(\"\")\n",
        "print(\"-\" *46)"
      ],
      "execution_count": 4,
      "outputs": [
        {
          "output_type": "stream",
          "text": [
            "Qual o seu nome: Elias Feitoza\n",
            "Quantos Kilometros serão rodados: 455\n",
            "Quantos dias de locação: 2\n",
            "\n",
            "------------- Locadora de Carros -------------\n",
            "\n",
            "Seja Bem Vindo Elias Feitoza\n",
            "\n",
            "\n",
            "O Valor Total da sua locação é: R$  188.25\n",
            "\n",
            "----------------------------------------------\n"
          ],
          "name": "stdout"
        }
      ]
    }
  ]
}